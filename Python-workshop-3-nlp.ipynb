{
 "cells": [
  {
   "cell_type": "markdown",
   "id": "2f6f5cbe-3749-42cc-9c48-c56ade4864fe",
   "metadata": {},
   "source": [
    "# Natural Language Processing\n",
    "\n",
    "## A UTSA Libraries - CEDISH workshop\n",
    "\n",
    "To begin, if you are working with Anaconda Navigator, launch your Navigator. Select the \"Environments\" pane and create a new Python environment. You can call it `nlp_workshop` or another name that makes sense to you.\n",
    "\n",
    "If you do not have a Python environment on your computer, go to Google Colab at https://colab.research.google.com. Then create a new notebook.\n",
    "\n",
    "In your Navigator environments pane, with the new environment selected, switch the dropdown from \"Installed\" to \"Not installed\" and search for \"spacy: Industrial-strength natural language processing (nlp) in python\". Select it. In addition, we are going to install the English language pipeline. Search for \"spacy-model-en\" and select the 'en_core_web_sm' pipleine. Click \"Apply\" to install the packages, and click \"apply\" again when prompted again.\n",
    "\n",
    "In Google Colab, it should not be necessary to install packages. Colab will resolve libraries and their dependencies for you.\n",
    "\n",
    "In Navigator, select the \"Home\" tab, and with your new environment selected, find Jupyter Notebook (not Jupyter Lab) and click Install. Once installed, the prompt in the Jupyter Notebook box will change from \"Install\" to \"Launch\". Click to launch. Once the Notebook browser has launched, navigate to your project folder. Create a new folder for this workshop and navigate into it. Launch a new notebook (it should just say Python 3 (ipykernel) or something similar). Rename the new notebook.\n",
    "\n",
    "Now our Navigator and Colab work streams join back together. We are going to use the spaCy library for natural language processing. First we must import this library."
   ]
  },
  {
   "cell_type": "code",
   "execution_count": 2,
   "id": "231d1004-4c27-4677-8f29-d20ab9db368d",
   "metadata": {},
   "outputs": [],
   "source": [
    "import spacy"
   ]
  },
  {
   "cell_type": "markdown",
   "id": "ad580997-b4f1-49bd-b6ad-3a9db6921e73",
   "metadata": {},
   "source": [
    "The spaCy NLP library is now ready for us to use. Next, we need to load the specific pipeline we are using, in this case the English language pipeline. SpaCy has libraries for numerous European and East Asian languages."
   ]
  },
  {
   "cell_type": "code",
   "execution_count": 3,
   "id": "7998af36-5a60-415a-beb7-cc9ec754b4b0",
   "metadata": {},
   "outputs": [],
   "source": [
    "nlp = spacy.load('en_core_web_sm')"
   ]
  },
  {
   "cell_type": "markdown",
   "id": "005c4157-efa2-44e0-a57c-a873629ea719",
   "metadata": {},
   "source": [
    "Here, we have loaded the core English spaCy pipeline. This loads the vocabulary dictionary, and creates a Python object, which by convention we call `nlp`. The `nlp` object has all sorts of capabilities and properties for our use.\n",
    "\n",
    "Our next step is to load some sort of text for us to work with. SpaCy is trained on web content, but we are going to see how it works on literary content. If you wish, go to the Project Gutenberg site and select a text. Copy and paste the text into a text editor such as TextEdit on MacOS or Notepad on Windows, or Sublime on any platform. Or, go to the workshop repo at https://github.com/jruedas1/cedish-nlp-workshop to download the Gutenberg project text file of Charlotte Brontë's Jane Eyre."
   ]
  },
  {
   "cell_type": "markdown",
   "id": "d00cb634-8072-44ec-a4a2-e0324bd75609",
   "metadata": {},
   "source": [
    "## Opening a text file and basic Python text processing"
   ]
  },
  {
   "cell_type": "markdown",
   "id": "912ae58a-2dfc-4ad4-9777-9cb9b811dd9a",
   "metadata": {},
   "source": [
    "We will first do some simple pre-processing in base Python. This is not yet nlp, just basic Python text processing. Python is a very powerful text processing language, even without using any NLP libraries.\n",
    "\n",
    "To open a file and read it, we will use a context manager. Assuming the file is in the same folder as your notebook is being saved, use the following process to read the file as a list of lines. We can then verify how many lines we have."
   ]
  },
  {
   "cell_type": "code",
   "execution_count": 4,
   "id": "7e40690c-f02f-4e94-a961-8d1c1399dd90",
   "metadata": {},
   "outputs": [
    {
     "name": "stdout",
     "output_type": "stream",
     "text": [
      "21381\n"
     ]
    }
   ],
   "source": [
    "with open('jane-eyre.txt') as je:\n",
    "    lines = je.readlines()\n",
    "\n",
    "print(len(lines))"
   ]
  },
  {
   "cell_type": "markdown",
   "id": "72bbc7d9-134e-4066-8451-a69d3b82fe48",
   "metadata": {},
   "source": [
    "We can look at a selection of lines by using a slice. The result of a `.readlines()` operation is a list, and a part of a list can be selected with list slicing."
   ]
  },
  {
   "cell_type": "code",
   "execution_count": 5,
   "id": "c6f2e097-da6c-41f5-b6d7-5915204e03ec",
   "metadata": {},
   "outputs": [
    {
     "name": "stdout",
     "output_type": "stream",
     "text": [
      "['flowers in this old garden awake and expand, and the birds fetch their\\n', 'young ones’ breakfast out of the Thornfield, and the early bees do\\n', 'their first spell of work—I’ll put a case to you, which you must\\n', 'endeavour to suppose your own: but first, look at me, and tell me you\\n', 'are at ease, and not fearing that I err in detaining you, or that you\\n', 'err in staying.”\\n', '\\n', '“No, sir; I am content.”\\n', '\\n', '“Well then, Jane, call to aid your fancy:—suppose you were no longer a\\n', 'girl well reared and disciplined, but a wild boy indulged from\\n', 'childhood upwards; imagine yourself in a remote foreign land; conceive\\n', 'that you there commit a capital error, no matter of what nature or from\\n', 'what motives, but one whose consequences must follow you through life\\n', 'and taint all your existence. Mind, I don’t say a _crime_; I am not\\n', 'speaking of shedding of blood or any other guilty act, which might make\\n', 'the perpetrator amenable to the law: my word is _error_. The results of\\n', 'what you have done become in time to you utterly insupportable; you\\n', 'take measures to obtain relief: unusual measures, but neither unlawful\\n', 'nor culpable. Still you are miserable; for hope has quitted you on the\\n']\n"
     ]
    }
   ],
   "source": [
    "print(lines[9995:10015])"
   ]
  },
  {
   "cell_type": "markdown",
   "id": "0a47d0bd-85a9-4e26-9110-9e00ee217166",
   "metadata": {},
   "source": [
    "For a prettier output, more similar to how the text is displayed in a text editor, we can **loop** over the list slice and print out each line, specifying that it should end with an empty string, rather than with a newline character."
   ]
  },
  {
   "cell_type": "code",
   "execution_count": 6,
   "id": "9f85a0e0-5fbf-4501-a990-efc753dd8d1b",
   "metadata": {},
   "outputs": [
    {
     "name": "stdout",
     "output_type": "stream",
     "text": [
      "flowers in this old garden awake and expand, and the birds fetch their\n",
      "young ones’ breakfast out of the Thornfield, and the early bees do\n",
      "their first spell of work—I’ll put a case to you, which you must\n",
      "endeavour to suppose your own: but first, look at me, and tell me you\n",
      "are at ease, and not fearing that I err in detaining you, or that you\n",
      "err in staying.”\n",
      "\n",
      "“No, sir; I am content.”\n",
      "\n",
      "“Well then, Jane, call to aid your fancy:—suppose you were no longer a\n",
      "girl well reared and disciplined, but a wild boy indulged from\n",
      "childhood upwards; imagine yourself in a remote foreign land; conceive\n",
      "that you there commit a capital error, no matter of what nature or from\n",
      "what motives, but one whose consequences must follow you through life\n",
      "and taint all your existence. Mind, I don’t say a _crime_; I am not\n",
      "speaking of shedding of blood or any other guilty act, which might make\n",
      "the perpetrator amenable to the law: my word is _error_. The results of\n",
      "what you have done become in time to you utterly insupportable; you\n",
      "take measures to obtain relief: unusual measures, but neither unlawful\n",
      "nor culpable. Still you are miserable; for hope has quitted you on the\n"
     ]
    }
   ],
   "source": [
    "for line in lines[9995:10015]:\n",
    "    print(line, end=\"\")"
   ]
  },
  {
   "cell_type": "markdown",
   "id": "b31d81b4-bb65-426c-9436-ceb6491f1b65",
   "metadata": {},
   "source": [
    "A list of lines is not the same thing as a text. Each line is text, but the list of lines is a Python list object, not a text. To analyze this text using NLP, we are going to need to create a text. We can gather the lines together into one text by using a loop again. \n",
    "\n",
    "Here, we create an empty string called `full_text`. We will use this as an **accumulator variable**. Then we loop over each line and add it to the accumulator variable. When we are done, we have the full text of Jane Eyre. When we look at the length of this, we get the number of characters in the text. It is a little over one million characters."
   ]
  },
  {
   "cell_type": "code",
   "execution_count": 7,
   "id": "fb16ab77-04b7-4456-aadc-66b330373ed7",
   "metadata": {
    "scrolled": true
   },
   "outputs": [
    {
     "name": "stdout",
     "output_type": "stream",
     "text": [
      "1041691\n"
     ]
    }
   ],
   "source": [
    "full_text = ''\n",
    "for line in lines:\n",
    "    full_text += line\n",
    "\n",
    "print(len(full_text))"
   ]
  },
  {
   "cell_type": "markdown",
   "id": "514b306d-d1e7-4f2b-9b15-eb4a981eb446",
   "metadata": {},
   "source": [
    "If we print a slice of the full text, we are telling Python what characters we want to display. Think of a string as a bit like a list of characters."
   ]
  },
  {
   "cell_type": "code",
   "execution_count": 8,
   "id": "c46ebf15-1b26-4bbc-96a7-4865f2969ec0",
   "metadata": {},
   "outputs": [
    {
     "name": "stdout",
     "output_type": "stream",
     "text": [
      "themselves with the succeeding vignettes,\n",
      "and gave significance to the rock standing up alone in a sea of billow\n",
      "and spray; to the broken boat stranded on a desolate coast; to the cold\n",
      "and ghastly moon glancing through bars of cloud at a wreck just\n",
      "sinking.\n",
      "\n",
      "I cannot tell what sentiment haunted the quite solitary churchyard,\n",
      "with its inscribed headstone; its gate, its two trees, its low horizon,\n",
      "girdled by a broken wall, and its newly-risen crescent, attesting the\n",
      "hour of eventide.\n",
      "\n",
      "The two ships becalmed on a torpid sea, I believed to be marine\n",
      "phantoms.\n",
      "\n",
      "The fiend pinning down the thief’s pack behind him, I passed over\n",
      "quickly: it was an object of terror.\n",
      "\n",
      "So was the black horned thing seated aloof on a rock, surveying a\n",
      "distant crowd surrounding a gallows.\n",
      "\n",
      "Each picture told a story; mysterious often to my undeveloped\n",
      "understanding and imperfect feelings, yet ever profoundly interesting:\n",
      "as interesting as the tales Bessie sometimes narrated on winter\n",
      "evenings, when she chanced to be\n"
     ]
    }
   ],
   "source": [
    "print(full_text[10000:11000])"
   ]
  },
  {
   "cell_type": "markdown",
   "id": "167ac57a-b813-4636-a434-7c706ea6504d",
   "metadata": {},
   "source": [
    "The full text of a novel may still be more than we want to deal with. We can use Python to split the text into parts. In this case, I know that each chapter has a heading that consists of the word \"CHAPTER\" in all caps, followed by a Roman numeral. I also know that the word \"CHAPTER\" in all caps appears only where a chapter begins. I can use that informtion to split the text. \n",
    "\n",
    "This is the sort of small snippet of code that generative AI LLMs are good at producing. This code was produced by ChatGPT on my instructions. It is helpful to know Python well before ordering gen AI to generate it, since that is the only way you can tell if there are mistakes, if the chatbot has given you what you actually asked for, and how to modify it to suit your needs.\n",
    "\n",
    "Here, we import a library called `re`, which is the *regular expression* library. Regular expressions are text-matching patterns. Then, we define a function called `extract_chapter`. A function is a piece of reusable code that we can call over and over again as needed. After the function definition, between parentheses, are the function **parameters**. These are the bits of information the function needs in order to do its job. In this case, the function needs a reference to the full text we are workiing from, and the chapter number we are looking for. The chapter numbers are the strings representing Roman numerals. Note that this function is specific to our text of Jane Eyre.\n",
    "\n",
    "The function defines a pattern: a newline character followed by the word \"CHAPTER\", followed by whatever chapter number we are looking for, followed by another newline character. The function then splits the text into two parts at the chapter heading specified: everything before the chapter we are looking for, and everything from the beginning of the chapter to the end of the book (`re.split(pattern, full_text)`. It then takes the text of the chapter we are looking for, and splits it again at the next occurence of the word \"CHAPTER\", and returns the result. \n",
    "\n",
    "Thanks to this, we have a reusable function we can use to extract individual chapters from the full text of Jane Eyre."
   ]
  },
  {
   "cell_type": "code",
   "execution_count": 9,
   "id": "f9d18d29-15cb-4dd4-9635-467e2103fbe3",
   "metadata": {
    "scrolled": true
   },
   "outputs": [
    {
     "name": "stdout",
     "output_type": "stream",
     "text": [
      "38376\n"
     ]
    }
   ],
   "source": [
    "import re\n",
    "\n",
    "def extract_chapter(full_text, chapter_number):\n",
    "    # Define regex pattern to find chapter headings\n",
    "    pattern = rf\"\\n+CHAPTER {chapter_number}\\n+\"\n",
    "    \n",
    "    # Split text at chapter headings\n",
    "    chapters = re.split(pattern, full_text, flags=re.IGNORECASE)\n",
    "\n",
    "    if len(chapters) > 1:\n",
    "        return chapters[1].strip().split(\"\\nCHAPTER\")[0]  # Extract up to the next chapter\n",
    "    else:\n",
    "        return \"Chapter not found.\"\n",
    "\n",
    "# Example usage:\n",
    "chapter_text = extract_chapter(full_text, \"XXIV\")\n",
    "print(len(chapter_text))"
   ]
  },
  {
   "cell_type": "code",
   "execution_count": 10,
   "id": "e3ae9ca7-9ad8-4672-875a-d58e1c97495d",
   "metadata": {
    "scrolled": true
   },
   "outputs": [
    {
     "name": "stdout",
     "output_type": "stream",
     "text": [
      " look at my master, because I feared he could not be pleased at my\n",
      "look; but I was sure I might lift\n"
     ]
    }
   ],
   "source": [
    "print(chapter_text[500:600])"
   ]
  },
  {
   "cell_type": "markdown",
   "id": "8be9cd0b-1d38-40ff-8254-ac19546e06ef",
   "metadata": {},
   "source": [
    "We have seen how to read text files into Python memory. We can also use Python to write text to files on our system. If the file does not exist, it is created on the spot. We use the same context manager syntax we did to read the file, but this time we add the 'w' option to indicate that we want to write. We then use the write method to write our chapter text to a file."
   ]
  },
  {
   "cell_type": "code",
   "execution_count": 11,
   "id": "5d9ef5ef-6f1b-4027-a44c-b76f1bd55b8e",
   "metadata": {},
   "outputs": [],
   "source": [
    "with open('je_chapter_24.txt', 'w') as f:\n",
    "    f.write(chapter_text)"
   ]
  },
  {
   "cell_type": "markdown",
   "id": "b254f0c4-4697-4640-9ffa-0e4d4093ef5c",
   "metadata": {},
   "source": [
    "We now have a text file of Jane Eyre, chapter 24. We have saved it to our file system and can reuse it any time we want. We can repeat the process for other chapters."
   ]
  },
  {
   "cell_type": "code",
   "execution_count": 12,
   "id": "56bebc18-9103-4ba0-8ef3-ccf2b1207950",
   "metadata": {},
   "outputs": [],
   "source": [
    "chapter12 = extract_chapter(full_text, \"XII\")\n",
    "\n",
    "with open('je_chapter_12.txt', 'w') as f:\n",
    "    f.write(chapter12)"
   ]
  },
  {
   "cell_type": "markdown",
   "id": "5c201b3a-8e93-40ad-981b-376b8a07e2c5",
   "metadata": {},
   "source": [
    "Since we are doing something over and over again, we should write a function with reusable code that can extract our Jane Eyre chapters. Be careful, here the pattern has been changed to use a parameter called `chapter_roman_numeral` for specificity, while `chapter_number` is used for naming the file."
   ]
  },
  {
   "cell_type": "code",
   "execution_count": 13,
   "id": "83d52bec-1fc6-4706-b0d1-ed5e3212be61",
   "metadata": {},
   "outputs": [],
   "source": [
    "def extract_and_write_chapter(full_text, chapter_roman_numeral, chapter_number):\n",
    "    pattern = rf\"\\n+CHAPTER {chapter_roman_numeral}\\n+\"\n",
    "    \n",
    "    # Split text at chapter headings\n",
    "    chapters = re.split(pattern, full_text, flags=re.IGNORECASE)\n",
    "    \n",
    "    if len(chapters) > 1:\n",
    "        chapter = chapters[1].strip().split(\"\\nCHAPTER\")[0]  # Extract up to the next chapter\n",
    "    else:\n",
    "        chapter = \"\"\n",
    "    \n",
    "    if(chapter):\n",
    "        file_name = f'je_chapter_{str(chapter_number)}.txt'\n",
    "        with open(file_name, 'w') as f:\n",
    "            f.write(chapter)\n",
    "    else:\n",
    "        print(f\"Nothing to write for chapter {chapter_roman_numeral}\")"
   ]
  },
  {
   "cell_type": "code",
   "execution_count": 14,
   "id": "0856c26b-8b64-4e96-ad55-a0daec4b9b9a",
   "metadata": {},
   "outputs": [],
   "source": [
    "extract_and_write_chapter(full_text, \"XXI\", 31)"
   ]
  },
  {
   "cell_type": "markdown",
   "id": "50487701-502a-41bc-ab2a-bc25df6f4563",
   "metadata": {},
   "source": [
    "## Tokenization\n",
    "\n",
    "We can see that Python has very powerful text processing capabilities inherently, and can be used to take text and split it or modify it in very complex ways. These capabilities are even further enhanced when we use natural language processing.\n",
    "\n",
    "Remember that earlier in this notebook, we imported spacy (`import spacy`) and loaded the English pipeline (`nlp = spacy.load('en_core_web_sm'`), so we have a pipeline object, which by convention we called `nlp`. The nlp object has properties and methods, that is, things that it *is* or *has* and things that it *does*. Properties of an object are examined using dot notation with no parentheses. Here we can examine the `nlp` object's `pipeline` property. This tells us the pipeline components. We have a tokenizer and vectorizer, a tagger, a dependency parser, a lemmatizer, a named entity recognition component, and the attribute ruler, which is more of an architectural component that we don't use directly for the most part."
   ]
  },
  {
   "cell_type": "code",
   "execution_count": 15,
   "id": "f95d85bb-ce0f-4c21-903f-2cbad87c8634",
   "metadata": {
    "scrolled": true
   },
   "outputs": [
    {
     "data": {
      "text/plain": [
       "[('tok2vec', <spacy.pipeline.tok2vec.Tok2Vec at 0x311222090>),\n",
       " ('tagger', <spacy.pipeline.tagger.Tagger at 0x311221f70>),\n",
       " ('parser', <spacy.pipeline.dep_parser.DependencyParser at 0x31126e180>),\n",
       " ('attribute_ruler',\n",
       "  <spacy.pipeline.attributeruler.AttributeRuler at 0x311556b50>),\n",
       " ('lemmatizer', <spacy.lang.en.lemmatizer.EnglishLemmatizer at 0x31153f290>),\n",
       " ('ner', <spacy.pipeline.ner.EntityRecognizer at 0x31126e1f0>)]"
      ]
     },
     "execution_count": 15,
     "metadata": {},
     "output_type": "execute_result"
    }
   ],
   "source": [
    "nlp.pipeline"
   ]
  },
  {
   "cell_type": "markdown",
   "id": "0ec877bd-9b35-40e6-9b8b-a6cab5048e3c",
   "metadata": {},
   "source": [
    "The first step in NLP with spaCy is always tokenization. We use the nlp method on any text. Here we are using it on the `chapter12` variable we created earlier, representing the text of chapter 12 of Jane Eyre. We could also load it from the file we created. Here is how we would load the file into text:"
   ]
  },
  {
   "cell_type": "code",
   "execution_count": 16,
   "id": "dea135a3-a145-4ec8-8c35-a113b5b8635b",
   "metadata": {},
   "outputs": [],
   "source": [
    "with open('je_chapter_12.txt') as f:\n",
    "    chapter12 = f.read()"
   ]
  },
  {
   "cell_type": "markdown",
   "id": "0470c266-9227-4df6-83dd-2d7d7f4d0029",
   "metadata": {},
   "source": [
    "Keep in mind that the `.read()` method may fail for very large text files. It would not be a good way to read the entire text of Jane Eyre into memory. That is why we used `.readlines()` and then reassembled the text. The `.read()` method will work on individual chapters."
   ]
  },
  {
   "cell_type": "code",
   "execution_count": 17,
   "id": "d9f28734-08b6-41b7-a696-e4a5dffcb3f8",
   "metadata": {},
   "outputs": [],
   "source": [
    "doc = nlp(chapter12)"
   ]
  },
  {
   "cell_type": "markdown",
   "id": "b5edd283-424f-43b0-abf3-a6dd6e31f46a",
   "metadata": {},
   "source": [
    "By convention, when we run the `nlp` method on a text, the resulting object is called `doc` or some variant of `doc`. This is a spaCy `doc` object. A `doc` object is a list of token objects. We can find out how many tokens we have by looking at the length of the `doc` list."
   ]
  },
  {
   "cell_type": "code",
   "execution_count": 18,
   "id": "e5f3dd6b-3d75-4ec4-897d-683385d71280",
   "metadata": {},
   "outputs": [
    {
     "name": "stdout",
     "output_type": "stream",
     "text": [
      "5435\n"
     ]
    }
   ],
   "source": [
    "print(len(doc))"
   ]
  },
  {
   "cell_type": "markdown",
   "id": "14881e92-0200-45aa-9fb9-67a48027c030",
   "metadata": {},
   "source": [
    "We can use list slicing to create a selection of tokens. A selection of a `doc` object is called a **Span** in spaCy. Note that a spaCy span is not just a list of tokens, it is also an object with its own properties and methods."
   ]
  },
  {
   "cell_type": "code",
   "execution_count": 19,
   "id": "49617d29-fbe0-45d9-84b9-52f47a6e0615",
   "metadata": {},
   "outputs": [
    {
     "name": "stdout",
     "output_type": "stream",
     "text": [
      "The promise of a smooth career, which my first calm introduction to\n",
      "Thornfield Hall seemed to pledge,\n"
     ]
    }
   ],
   "source": [
    "selection = doc[0:20]\n",
    "print(selection)"
   ]
  },
  {
   "cell_type": "markdown",
   "id": "96d1736e-b588-4c8e-a05f-73004a4960c9",
   "metadata": {},
   "source": [
    "Tokens are objects that contain lots of useful information about the text they refer to. Each token is represents one meaningful unit of language. In English, this is rougly equivalent to a word, but in some cases words may be multiple tokens. In addition, punctuation is also tokenized as it carries some meaning.\n",
    "\n",
    "We can loop over the tokens in our selection and look at some of the properties of a spaCy token. Here we look at the token text, the part of speech, and the syntactic dependency relation.\n",
    "\n",
    "[NLP part of speech labels](https://www.pythonprog.com/spacy-part-of-speech-tags/)\n",
    "\n",
    "[NLP dependency labels](https://github.com/clir/clearnlp-guidelines/blob/master/md/specifications/dependency_labels.md)"
   ]
  },
  {
   "cell_type": "code",
   "execution_count": 20,
   "id": "83e567a9-54a0-4e3c-abe4-cad3315c30ea",
   "metadata": {
    "scrolled": true
   },
   "outputs": [
    {
     "name": "stdout",
     "output_type": "stream",
     "text": [
      "The DET det\n",
      "promise NOUN nsubjpass\n",
      "of ADP prep\n",
      "a DET det\n",
      "smooth ADJ amod\n",
      "career NOUN pobj\n",
      ", PUNCT punct\n",
      "which PRON dobj\n",
      "my PRON poss\n",
      "first ADJ amod\n",
      "calm ADJ amod\n",
      "introduction NOUN nsubj\n",
      "to ADP prep\n",
      "\n",
      " SPACE dep\n",
      "Thornfield PROPN compound\n",
      "Hall PROPN pobj\n",
      "seemed VERB relcl\n",
      "to PART aux\n",
      "pledge VERB xcomp\n",
      ", PUNCT punct\n"
     ]
    }
   ],
   "source": [
    "for token in selection:\n",
    "    print(token.text, token.pos_, token.dep_)"
   ]
  },
  {
   "cell_type": "markdown",
   "id": "eb285cb1-6c29-498a-b500-d942767a6cec",
   "metadata": {},
   "source": [
    "We can get a better readout on the meaning of these labels by using the `spacy.explain` method. Let's also use something called an *f-string* to space it out into a more readable format."
   ]
  },
  {
   "cell_type": "code",
   "execution_count": 21,
   "id": "00e7dc77-70cd-4f02-8472-6e89309aa72b",
   "metadata": {
    "scrolled": true
   },
   "outputs": [
    {
     "name": "stdout",
     "output_type": "stream",
     "text": [
      "The            DET       determiner\n",
      "promise        NOUN      noun\n",
      "of             ADP       adposition\n",
      "a              DET       determiner\n",
      "smooth         ADJ       adjective\n",
      "career         NOUN      noun\n",
      ",              PUNCT     punctuation\n",
      "which          PRON      pronoun\n",
      "my             PRON      pronoun\n",
      "first          ADJ       adjective\n",
      "calm           ADJ       adjective\n",
      "introduction   NOUN      noun\n",
      "to             ADP       adposition\n",
      "\n",
      "              SPACE     space\n",
      "Thornfield     PROPN     proper noun\n",
      "Hall           PROPN     proper noun\n",
      "seemed         VERB      verb\n",
      "to             PART      particle\n",
      "pledge         VERB      verb\n",
      ",              PUNCT     punctuation\n"
     ]
    }
   ],
   "source": [
    "for token in selection:\n",
    "    print(f'{token.text:15}{token.pos_:10}{spacy.explain(token.pos_)}')"
   ]
  },
  {
   "cell_type": "markdown",
   "id": "5e046a05-c868-4bc0-9357-ae8d913283ea",
   "metadata": {},
   "source": [
    "Spacy does have a concept of sentences, which are selections of tokens, in other words, a kind of spaCy Span object."
   ]
  },
  {
   "cell_type": "code",
   "execution_count": 22,
   "id": "4aa6b53a-6a8e-4c73-b931-2696637a6738",
   "metadata": {},
   "outputs": [
    {
     "name": "stdout",
     "output_type": "stream",
     "text": [
      "The            DET       determiner\n",
      "promise        NOUN      noun\n",
      "of             ADP       adposition\n",
      "a              DET       determiner\n",
      "smooth         ADJ       adjective\n",
      "career         NOUN      noun\n",
      ",              PUNCT     punctuation\n",
      "which          PRON      pronoun\n",
      "my             PRON      pronoun\n",
      "first          ADJ       adjective\n",
      "calm           ADJ       adjective\n",
      "introduction   NOUN      noun\n",
      "to             ADP       adposition\n",
      "\n",
      "              SPACE     space\n",
      "Thornfield     PROPN     proper noun\n",
      "Hall           PROPN     proper noun\n",
      "seemed         VERB      verb\n",
      "to             PART      particle\n",
      "pledge         VERB      verb\n",
      ",              PUNCT     punctuation\n",
      "was            AUX       auxiliary\n",
      "not            PART      particle\n",
      "belied         VERB      verb\n",
      "on             ADP       adposition\n",
      "a              DET       determiner\n",
      "longer         ADJ       adjective\n",
      "\n",
      "              SPACE     space\n",
      "acquaintance   NOUN      noun\n",
      "with           ADP       adposition\n",
      "the            DET       determiner\n",
      "place          NOUN      noun\n",
      "and            CCONJ     coordinating conjunction\n",
      "its            PRON      pronoun\n",
      "inmates        NOUN      noun\n",
      ".              PUNCT     punctuation\n"
     ]
    }
   ],
   "source": [
    "spans = list(doc.sents)\n",
    "first_sentence = spans[0]\n",
    "for token in first_sentence:\n",
    "    print(f'{token.text:15}{token.pos_:10}{spacy.explain(token.pos_)}')"
   ]
  },
  {
   "cell_type": "markdown",
   "id": "eb4c8e28-bf48-4d6f-af32-6546a661613a",
   "metadata": {},
   "source": [
    "The spaCy dependency parser analyzes words in terms of their grammatical relationships with one another."
   ]
  },
  {
   "cell_type": "code",
   "execution_count": 23,
   "id": "cc2c982d-effd-48f6-8681-619f3d8b5cf3",
   "metadata": {
    "scrolled": true
   },
   "outputs": [
    {
     "name": "stdout",
     "output_type": "stream",
     "text": [
      "The            det       determiner\n",
      "promise        nsubjpass nominal subject (passive)\n",
      "of             prep      prepositional modifier\n",
      "a              det       determiner\n",
      "smooth         amod      adjectival modifier\n",
      "career         pobj      object of preposition\n",
      ",              punct     punctuation\n",
      "which          dobj      direct object\n",
      "my             poss      possession modifier\n",
      "first          amod      adjectival modifier\n",
      "calm           amod      adjectival modifier\n",
      "introduction   nsubj     nominal subject\n",
      "to             prep      prepositional modifier\n",
      "\n",
      "              dep       unclassified dependent\n",
      "Thornfield     compound  compound\n",
      "Hall           pobj      object of preposition\n",
      "seemed         relcl     relative clause modifier\n",
      "to             aux       auxiliary\n",
      "pledge         xcomp     open clausal complement\n",
      ",              punct     punctuation\n",
      "was            auxpass   auxiliary (passive)\n",
      "not            neg       negation modifier\n",
      "belied         ROOT      root\n",
      "on             prep      prepositional modifier\n",
      "a              det       determiner\n",
      "longer         amod      adjectival modifier\n",
      "\n",
      "              dep       unclassified dependent\n",
      "acquaintance   pobj      object of preposition\n",
      "with           prep      prepositional modifier\n",
      "the            det       determiner\n",
      "place          pobj      object of preposition\n",
      "and            cc        coordinating conjunction\n",
      "its            poss      possession modifier\n",
      "inmates        conj      conjunct\n",
      ".              punct     punctuation\n"
     ]
    }
   ],
   "source": [
    "for token in first_sentence:\n",
    "    print(f'{token.text:15}{token.dep_:10}{spacy.explain(token.dep_)}')"
   ]
  },
  {
   "cell_type": "markdown",
   "id": "1d05c4b4-34e2-4613-8af1-d8ec0c116ded",
   "metadata": {},
   "source": [
    "## Visualizing parts of speech with Displacy\n",
    "\n",
    "Although we can look at each word as having a syntactic dependency relationship, this makes more sense if we look at an entire unit, such as a sentence. SpaCy has a visualizer called displacy that we can use for this."
   ]
  },
  {
   "cell_type": "code",
   "execution_count": 24,
   "id": "16f667d3-bd7c-45b3-b6cc-42b5fd846dc2",
   "metadata": {
    "scrolled": true
   },
   "outputs": [
    {
     "data": {
      "text/html": [
       "<span class=\"tex2jax_ignore\"><svg xmlns=\"http://www.w3.org/2000/svg\" xmlns:xlink=\"http://www.w3.org/1999/xlink\" xml:lang=\"en\" id=\"993c4fff086a4cff9e1b8ea7afdc304b-0\" class=\"displacy\" width=\"4850\" height=\"587.0\" direction=\"ltr\" style=\"max-width: none; height: 587.0px; color: #000000; background: #ffffff; font-family: Arial; direction: ltr\">\n",
       "<text class=\"displacy-token\" fill=\"currentColor\" text-anchor=\"middle\" y=\"497.0\">\n",
       "    <tspan class=\"displacy-word\" fill=\"currentColor\" x=\"50\">The</tspan>\n",
       "    <tspan class=\"displacy-tag\" dy=\"2em\" fill=\"currentColor\" x=\"50\">DET</tspan>\n",
       "</text>\n",
       "\n",
       "<text class=\"displacy-token\" fill=\"currentColor\" text-anchor=\"middle\" y=\"497.0\">\n",
       "    <tspan class=\"displacy-word\" fill=\"currentColor\" x=\"200\">promise</tspan>\n",
       "    <tspan class=\"displacy-tag\" dy=\"2em\" fill=\"currentColor\" x=\"200\">NOUN</tspan>\n",
       "</text>\n",
       "\n",
       "<text class=\"displacy-token\" fill=\"currentColor\" text-anchor=\"middle\" y=\"497.0\">\n",
       "    <tspan class=\"displacy-word\" fill=\"currentColor\" x=\"350\">of</tspan>\n",
       "    <tspan class=\"displacy-tag\" dy=\"2em\" fill=\"currentColor\" x=\"350\">ADP</tspan>\n",
       "</text>\n",
       "\n",
       "<text class=\"displacy-token\" fill=\"currentColor\" text-anchor=\"middle\" y=\"497.0\">\n",
       "    <tspan class=\"displacy-word\" fill=\"currentColor\" x=\"500\">a</tspan>\n",
       "    <tspan class=\"displacy-tag\" dy=\"2em\" fill=\"currentColor\" x=\"500\">DET</tspan>\n",
       "</text>\n",
       "\n",
       "<text class=\"displacy-token\" fill=\"currentColor\" text-anchor=\"middle\" y=\"497.0\">\n",
       "    <tspan class=\"displacy-word\" fill=\"currentColor\" x=\"650\">smooth</tspan>\n",
       "    <tspan class=\"displacy-tag\" dy=\"2em\" fill=\"currentColor\" x=\"650\">ADJ</tspan>\n",
       "</text>\n",
       "\n",
       "<text class=\"displacy-token\" fill=\"currentColor\" text-anchor=\"middle\" y=\"497.0\">\n",
       "    <tspan class=\"displacy-word\" fill=\"currentColor\" x=\"800\">career,</tspan>\n",
       "    <tspan class=\"displacy-tag\" dy=\"2em\" fill=\"currentColor\" x=\"800\">NOUN</tspan>\n",
       "</text>\n",
       "\n",
       "<text class=\"displacy-token\" fill=\"currentColor\" text-anchor=\"middle\" y=\"497.0\">\n",
       "    <tspan class=\"displacy-word\" fill=\"currentColor\" x=\"950\">which</tspan>\n",
       "    <tspan class=\"displacy-tag\" dy=\"2em\" fill=\"currentColor\" x=\"950\">PRON</tspan>\n",
       "</text>\n",
       "\n",
       "<text class=\"displacy-token\" fill=\"currentColor\" text-anchor=\"middle\" y=\"497.0\">\n",
       "    <tspan class=\"displacy-word\" fill=\"currentColor\" x=\"1100\">my</tspan>\n",
       "    <tspan class=\"displacy-tag\" dy=\"2em\" fill=\"currentColor\" x=\"1100\">PRON</tspan>\n",
       "</text>\n",
       "\n",
       "<text class=\"displacy-token\" fill=\"currentColor\" text-anchor=\"middle\" y=\"497.0\">\n",
       "    <tspan class=\"displacy-word\" fill=\"currentColor\" x=\"1250\">first</tspan>\n",
       "    <tspan class=\"displacy-tag\" dy=\"2em\" fill=\"currentColor\" x=\"1250\">ADJ</tspan>\n",
       "</text>\n",
       "\n",
       "<text class=\"displacy-token\" fill=\"currentColor\" text-anchor=\"middle\" y=\"497.0\">\n",
       "    <tspan class=\"displacy-word\" fill=\"currentColor\" x=\"1400\">calm</tspan>\n",
       "    <tspan class=\"displacy-tag\" dy=\"2em\" fill=\"currentColor\" x=\"1400\">ADJ</tspan>\n",
       "</text>\n",
       "\n",
       "<text class=\"displacy-token\" fill=\"currentColor\" text-anchor=\"middle\" y=\"497.0\">\n",
       "    <tspan class=\"displacy-word\" fill=\"currentColor\" x=\"1550\">introduction</tspan>\n",
       "    <tspan class=\"displacy-tag\" dy=\"2em\" fill=\"currentColor\" x=\"1550\">NOUN</tspan>\n",
       "</text>\n",
       "\n",
       "<text class=\"displacy-token\" fill=\"currentColor\" text-anchor=\"middle\" y=\"497.0\">\n",
       "    <tspan class=\"displacy-word\" fill=\"currentColor\" x=\"1700\">to</tspan>\n",
       "    <tspan class=\"displacy-tag\" dy=\"2em\" fill=\"currentColor\" x=\"1700\">ADP</tspan>\n",
       "</text>\n",
       "\n",
       "<text class=\"displacy-token\" fill=\"currentColor\" text-anchor=\"middle\" y=\"497.0\">\n",
       "    <tspan class=\"displacy-word\" fill=\"currentColor\" x=\"1850\">\n",
       "</tspan>\n",
       "    <tspan class=\"displacy-tag\" dy=\"2em\" fill=\"currentColor\" x=\"1850\">SPACE</tspan>\n",
       "</text>\n",
       "\n",
       "<text class=\"displacy-token\" fill=\"currentColor\" text-anchor=\"middle\" y=\"497.0\">\n",
       "    <tspan class=\"displacy-word\" fill=\"currentColor\" x=\"2000\">Thornfield</tspan>\n",
       "    <tspan class=\"displacy-tag\" dy=\"2em\" fill=\"currentColor\" x=\"2000\">PROPN</tspan>\n",
       "</text>\n",
       "\n",
       "<text class=\"displacy-token\" fill=\"currentColor\" text-anchor=\"middle\" y=\"497.0\">\n",
       "    <tspan class=\"displacy-word\" fill=\"currentColor\" x=\"2150\">Hall</tspan>\n",
       "    <tspan class=\"displacy-tag\" dy=\"2em\" fill=\"currentColor\" x=\"2150\">PROPN</tspan>\n",
       "</text>\n",
       "\n",
       "<text class=\"displacy-token\" fill=\"currentColor\" text-anchor=\"middle\" y=\"497.0\">\n",
       "    <tspan class=\"displacy-word\" fill=\"currentColor\" x=\"2300\">seemed</tspan>\n",
       "    <tspan class=\"displacy-tag\" dy=\"2em\" fill=\"currentColor\" x=\"2300\">VERB</tspan>\n",
       "</text>\n",
       "\n",
       "<text class=\"displacy-token\" fill=\"currentColor\" text-anchor=\"middle\" y=\"497.0\">\n",
       "    <tspan class=\"displacy-word\" fill=\"currentColor\" x=\"2450\">to</tspan>\n",
       "    <tspan class=\"displacy-tag\" dy=\"2em\" fill=\"currentColor\" x=\"2450\">PART</tspan>\n",
       "</text>\n",
       "\n",
       "<text class=\"displacy-token\" fill=\"currentColor\" text-anchor=\"middle\" y=\"497.0\">\n",
       "    <tspan class=\"displacy-word\" fill=\"currentColor\" x=\"2600\">pledge,</tspan>\n",
       "    <tspan class=\"displacy-tag\" dy=\"2em\" fill=\"currentColor\" x=\"2600\">VERB</tspan>\n",
       "</text>\n",
       "\n",
       "<text class=\"displacy-token\" fill=\"currentColor\" text-anchor=\"middle\" y=\"497.0\">\n",
       "    <tspan class=\"displacy-word\" fill=\"currentColor\" x=\"2750\">was</tspan>\n",
       "    <tspan class=\"displacy-tag\" dy=\"2em\" fill=\"currentColor\" x=\"2750\">AUX</tspan>\n",
       "</text>\n",
       "\n",
       "<text class=\"displacy-token\" fill=\"currentColor\" text-anchor=\"middle\" y=\"497.0\">\n",
       "    <tspan class=\"displacy-word\" fill=\"currentColor\" x=\"2900\">not</tspan>\n",
       "    <tspan class=\"displacy-tag\" dy=\"2em\" fill=\"currentColor\" x=\"2900\">PART</tspan>\n",
       "</text>\n",
       "\n",
       "<text class=\"displacy-token\" fill=\"currentColor\" text-anchor=\"middle\" y=\"497.0\">\n",
       "    <tspan class=\"displacy-word\" fill=\"currentColor\" x=\"3050\">belied</tspan>\n",
       "    <tspan class=\"displacy-tag\" dy=\"2em\" fill=\"currentColor\" x=\"3050\">VERB</tspan>\n",
       "</text>\n",
       "\n",
       "<text class=\"displacy-token\" fill=\"currentColor\" text-anchor=\"middle\" y=\"497.0\">\n",
       "    <tspan class=\"displacy-word\" fill=\"currentColor\" x=\"3200\">on</tspan>\n",
       "    <tspan class=\"displacy-tag\" dy=\"2em\" fill=\"currentColor\" x=\"3200\">ADP</tspan>\n",
       "</text>\n",
       "\n",
       "<text class=\"displacy-token\" fill=\"currentColor\" text-anchor=\"middle\" y=\"497.0\">\n",
       "    <tspan class=\"displacy-word\" fill=\"currentColor\" x=\"3350\">a</tspan>\n",
       "    <tspan class=\"displacy-tag\" dy=\"2em\" fill=\"currentColor\" x=\"3350\">DET</tspan>\n",
       "</text>\n",
       "\n",
       "<text class=\"displacy-token\" fill=\"currentColor\" text-anchor=\"middle\" y=\"497.0\">\n",
       "    <tspan class=\"displacy-word\" fill=\"currentColor\" x=\"3500\">longer</tspan>\n",
       "    <tspan class=\"displacy-tag\" dy=\"2em\" fill=\"currentColor\" x=\"3500\">ADJ</tspan>\n",
       "</text>\n",
       "\n",
       "<text class=\"displacy-token\" fill=\"currentColor\" text-anchor=\"middle\" y=\"497.0\">\n",
       "    <tspan class=\"displacy-word\" fill=\"currentColor\" x=\"3650\">\n",
       "</tspan>\n",
       "    <tspan class=\"displacy-tag\" dy=\"2em\" fill=\"currentColor\" x=\"3650\">SPACE</tspan>\n",
       "</text>\n",
       "\n",
       "<text class=\"displacy-token\" fill=\"currentColor\" text-anchor=\"middle\" y=\"497.0\">\n",
       "    <tspan class=\"displacy-word\" fill=\"currentColor\" x=\"3800\">acquaintance</tspan>\n",
       "    <tspan class=\"displacy-tag\" dy=\"2em\" fill=\"currentColor\" x=\"3800\">NOUN</tspan>\n",
       "</text>\n",
       "\n",
       "<text class=\"displacy-token\" fill=\"currentColor\" text-anchor=\"middle\" y=\"497.0\">\n",
       "    <tspan class=\"displacy-word\" fill=\"currentColor\" x=\"3950\">with</tspan>\n",
       "    <tspan class=\"displacy-tag\" dy=\"2em\" fill=\"currentColor\" x=\"3950\">ADP</tspan>\n",
       "</text>\n",
       "\n",
       "<text class=\"displacy-token\" fill=\"currentColor\" text-anchor=\"middle\" y=\"497.0\">\n",
       "    <tspan class=\"displacy-word\" fill=\"currentColor\" x=\"4100\">the</tspan>\n",
       "    <tspan class=\"displacy-tag\" dy=\"2em\" fill=\"currentColor\" x=\"4100\">DET</tspan>\n",
       "</text>\n",
       "\n",
       "<text class=\"displacy-token\" fill=\"currentColor\" text-anchor=\"middle\" y=\"497.0\">\n",
       "    <tspan class=\"displacy-word\" fill=\"currentColor\" x=\"4250\">place</tspan>\n",
       "    <tspan class=\"displacy-tag\" dy=\"2em\" fill=\"currentColor\" x=\"4250\">NOUN</tspan>\n",
       "</text>\n",
       "\n",
       "<text class=\"displacy-token\" fill=\"currentColor\" text-anchor=\"middle\" y=\"497.0\">\n",
       "    <tspan class=\"displacy-word\" fill=\"currentColor\" x=\"4400\">and</tspan>\n",
       "    <tspan class=\"displacy-tag\" dy=\"2em\" fill=\"currentColor\" x=\"4400\">CCONJ</tspan>\n",
       "</text>\n",
       "\n",
       "<text class=\"displacy-token\" fill=\"currentColor\" text-anchor=\"middle\" y=\"497.0\">\n",
       "    <tspan class=\"displacy-word\" fill=\"currentColor\" x=\"4550\">its</tspan>\n",
       "    <tspan class=\"displacy-tag\" dy=\"2em\" fill=\"currentColor\" x=\"4550\">PRON</tspan>\n",
       "</text>\n",
       "\n",
       "<text class=\"displacy-token\" fill=\"currentColor\" text-anchor=\"middle\" y=\"497.0\">\n",
       "    <tspan class=\"displacy-word\" fill=\"currentColor\" x=\"4700\">inmates.</tspan>\n",
       "    <tspan class=\"displacy-tag\" dy=\"2em\" fill=\"currentColor\" x=\"4700\">NOUN</tspan>\n",
       "</text>\n",
       "\n",
       "<g class=\"displacy-arrow\">\n",
       "    <path class=\"displacy-arc\" id=\"arrow-993c4fff086a4cff9e1b8ea7afdc304b-0-0\" stroke-width=\"2px\" d=\"M62,452.0 62,427.0 185.0,427.0 185.0,452.0\" fill=\"none\" stroke=\"currentColor\"/>\n",
       "    <text dy=\"1.25em\" style=\"font-size: 0.8em; letter-spacing: 1px\">\n",
       "        <textPath xlink:href=\"#arrow-993c4fff086a4cff9e1b8ea7afdc304b-0-0\" class=\"displacy-label\" startOffset=\"50%\" side=\"left\" fill=\"currentColor\" text-anchor=\"middle\">det</textPath>\n",
       "    </text>\n",
       "    <path class=\"displacy-arrowhead\" d=\"M62,454.0 L58,446.0 66,446.0\" fill=\"currentColor\"/>\n",
       "</g>\n",
       "\n",
       "<g class=\"displacy-arrow\">\n",
       "    <path class=\"displacy-arc\" id=\"arrow-993c4fff086a4cff9e1b8ea7afdc304b-0-1\" stroke-width=\"2px\" d=\"M212,452.0 212,302.0 3050.0,302.0 3050.0,452.0\" fill=\"none\" stroke=\"currentColor\"/>\n",
       "    <text dy=\"1.25em\" style=\"font-size: 0.8em; letter-spacing: 1px\">\n",
       "        <textPath xlink:href=\"#arrow-993c4fff086a4cff9e1b8ea7afdc304b-0-1\" class=\"displacy-label\" startOffset=\"50%\" side=\"left\" fill=\"currentColor\" text-anchor=\"middle\">nsubjpass</textPath>\n",
       "    </text>\n",
       "    <path class=\"displacy-arrowhead\" d=\"M212,454.0 L208,446.0 216,446.0\" fill=\"currentColor\"/>\n",
       "</g>\n",
       "\n",
       "<g class=\"displacy-arrow\">\n",
       "    <path class=\"displacy-arc\" id=\"arrow-993c4fff086a4cff9e1b8ea7afdc304b-0-2\" stroke-width=\"2px\" d=\"M212,452.0 212,427.0 335.0,427.0 335.0,452.0\" fill=\"none\" stroke=\"currentColor\"/>\n",
       "    <text dy=\"1.25em\" style=\"font-size: 0.8em; letter-spacing: 1px\">\n",
       "        <textPath xlink:href=\"#arrow-993c4fff086a4cff9e1b8ea7afdc304b-0-2\" class=\"displacy-label\" startOffset=\"50%\" side=\"left\" fill=\"currentColor\" text-anchor=\"middle\">prep</textPath>\n",
       "    </text>\n",
       "    <path class=\"displacy-arrowhead\" d=\"M335.0,454.0 L339.0,446.0 331.0,446.0\" fill=\"currentColor\"/>\n",
       "</g>\n",
       "\n",
       "<g class=\"displacy-arrow\">\n",
       "    <path class=\"displacy-arc\" id=\"arrow-993c4fff086a4cff9e1b8ea7afdc304b-0-3\" stroke-width=\"2px\" d=\"M512,452.0 512,402.0 788.0,402.0 788.0,452.0\" fill=\"none\" stroke=\"currentColor\"/>\n",
       "    <text dy=\"1.25em\" style=\"font-size: 0.8em; letter-spacing: 1px\">\n",
       "        <textPath xlink:href=\"#arrow-993c4fff086a4cff9e1b8ea7afdc304b-0-3\" class=\"displacy-label\" startOffset=\"50%\" side=\"left\" fill=\"currentColor\" text-anchor=\"middle\">det</textPath>\n",
       "    </text>\n",
       "    <path class=\"displacy-arrowhead\" d=\"M512,454.0 L508,446.0 516,446.0\" fill=\"currentColor\"/>\n",
       "</g>\n",
       "\n",
       "<g class=\"displacy-arrow\">\n",
       "    <path class=\"displacy-arc\" id=\"arrow-993c4fff086a4cff9e1b8ea7afdc304b-0-4\" stroke-width=\"2px\" d=\"M662,452.0 662,427.0 785.0,427.0 785.0,452.0\" fill=\"none\" stroke=\"currentColor\"/>\n",
       "    <text dy=\"1.25em\" style=\"font-size: 0.8em; letter-spacing: 1px\">\n",
       "        <textPath xlink:href=\"#arrow-993c4fff086a4cff9e1b8ea7afdc304b-0-4\" class=\"displacy-label\" startOffset=\"50%\" side=\"left\" fill=\"currentColor\" text-anchor=\"middle\">amod</textPath>\n",
       "    </text>\n",
       "    <path class=\"displacy-arrowhead\" d=\"M662,454.0 L658,446.0 666,446.0\" fill=\"currentColor\"/>\n",
       "</g>\n",
       "\n",
       "<g class=\"displacy-arrow\">\n",
       "    <path class=\"displacy-arc\" id=\"arrow-993c4fff086a4cff9e1b8ea7afdc304b-0-5\" stroke-width=\"2px\" d=\"M362,452.0 362,377.0 791.0,377.0 791.0,452.0\" fill=\"none\" stroke=\"currentColor\"/>\n",
       "    <text dy=\"1.25em\" style=\"font-size: 0.8em; letter-spacing: 1px\">\n",
       "        <textPath xlink:href=\"#arrow-993c4fff086a4cff9e1b8ea7afdc304b-0-5\" class=\"displacy-label\" startOffset=\"50%\" side=\"left\" fill=\"currentColor\" text-anchor=\"middle\">pobj</textPath>\n",
       "    </text>\n",
       "    <path class=\"displacy-arrowhead\" d=\"M791.0,454.0 L795.0,446.0 787.0,446.0\" fill=\"currentColor\"/>\n",
       "</g>\n",
       "\n",
       "<g class=\"displacy-arrow\">\n",
       "    <path class=\"displacy-arc\" id=\"arrow-993c4fff086a4cff9e1b8ea7afdc304b-0-6\" stroke-width=\"2px\" d=\"M962,452.0 962,327.0 2597.0,327.0 2597.0,452.0\" fill=\"none\" stroke=\"currentColor\"/>\n",
       "    <text dy=\"1.25em\" style=\"font-size: 0.8em; letter-spacing: 1px\">\n",
       "        <textPath xlink:href=\"#arrow-993c4fff086a4cff9e1b8ea7afdc304b-0-6\" class=\"displacy-label\" startOffset=\"50%\" side=\"left\" fill=\"currentColor\" text-anchor=\"middle\">dobj</textPath>\n",
       "    </text>\n",
       "    <path class=\"displacy-arrowhead\" d=\"M962,454.0 L958,446.0 966,446.0\" fill=\"currentColor\"/>\n",
       "</g>\n",
       "\n",
       "<g class=\"displacy-arrow\">\n",
       "    <path class=\"displacy-arc\" id=\"arrow-993c4fff086a4cff9e1b8ea7afdc304b-0-7\" stroke-width=\"2px\" d=\"M1112,452.0 1112,377.0 1541.0,377.0 1541.0,452.0\" fill=\"none\" stroke=\"currentColor\"/>\n",
       "    <text dy=\"1.25em\" style=\"font-size: 0.8em; letter-spacing: 1px\">\n",
       "        <textPath xlink:href=\"#arrow-993c4fff086a4cff9e1b8ea7afdc304b-0-7\" class=\"displacy-label\" startOffset=\"50%\" side=\"left\" fill=\"currentColor\" text-anchor=\"middle\">poss</textPath>\n",
       "    </text>\n",
       "    <path class=\"displacy-arrowhead\" d=\"M1112,454.0 L1108,446.0 1116,446.0\" fill=\"currentColor\"/>\n",
       "</g>\n",
       "\n",
       "<g class=\"displacy-arrow\">\n",
       "    <path class=\"displacy-arc\" id=\"arrow-993c4fff086a4cff9e1b8ea7afdc304b-0-8\" stroke-width=\"2px\" d=\"M1262,452.0 1262,402.0 1538.0,402.0 1538.0,452.0\" fill=\"none\" stroke=\"currentColor\"/>\n",
       "    <text dy=\"1.25em\" style=\"font-size: 0.8em; letter-spacing: 1px\">\n",
       "        <textPath xlink:href=\"#arrow-993c4fff086a4cff9e1b8ea7afdc304b-0-8\" class=\"displacy-label\" startOffset=\"50%\" side=\"left\" fill=\"currentColor\" text-anchor=\"middle\">amod</textPath>\n",
       "    </text>\n",
       "    <path class=\"displacy-arrowhead\" d=\"M1262,454.0 L1258,446.0 1266,446.0\" fill=\"currentColor\"/>\n",
       "</g>\n",
       "\n",
       "<g class=\"displacy-arrow\">\n",
       "    <path class=\"displacy-arc\" id=\"arrow-993c4fff086a4cff9e1b8ea7afdc304b-0-9\" stroke-width=\"2px\" d=\"M1412,452.0 1412,427.0 1535.0,427.0 1535.0,452.0\" fill=\"none\" stroke=\"currentColor\"/>\n",
       "    <text dy=\"1.25em\" style=\"font-size: 0.8em; letter-spacing: 1px\">\n",
       "        <textPath xlink:href=\"#arrow-993c4fff086a4cff9e1b8ea7afdc304b-0-9\" class=\"displacy-label\" startOffset=\"50%\" side=\"left\" fill=\"currentColor\" text-anchor=\"middle\">amod</textPath>\n",
       "    </text>\n",
       "    <path class=\"displacy-arrowhead\" d=\"M1412,454.0 L1408,446.0 1416,446.0\" fill=\"currentColor\"/>\n",
       "</g>\n",
       "\n",
       "<g class=\"displacy-arrow\">\n",
       "    <path class=\"displacy-arc\" id=\"arrow-993c4fff086a4cff9e1b8ea7afdc304b-0-10\" stroke-width=\"2px\" d=\"M1562,452.0 1562,377.0 2291.0,377.0 2291.0,452.0\" fill=\"none\" stroke=\"currentColor\"/>\n",
       "    <text dy=\"1.25em\" style=\"font-size: 0.8em; letter-spacing: 1px\">\n",
       "        <textPath xlink:href=\"#arrow-993c4fff086a4cff9e1b8ea7afdc304b-0-10\" class=\"displacy-label\" startOffset=\"50%\" side=\"left\" fill=\"currentColor\" text-anchor=\"middle\">nsubj</textPath>\n",
       "    </text>\n",
       "    <path class=\"displacy-arrowhead\" d=\"M1562,454.0 L1558,446.0 1566,446.0\" fill=\"currentColor\"/>\n",
       "</g>\n",
       "\n",
       "<g class=\"displacy-arrow\">\n",
       "    <path class=\"displacy-arc\" id=\"arrow-993c4fff086a4cff9e1b8ea7afdc304b-0-11\" stroke-width=\"2px\" d=\"M1562,452.0 1562,427.0 1685.0,427.0 1685.0,452.0\" fill=\"none\" stroke=\"currentColor\"/>\n",
       "    <text dy=\"1.25em\" style=\"font-size: 0.8em; letter-spacing: 1px\">\n",
       "        <textPath xlink:href=\"#arrow-993c4fff086a4cff9e1b8ea7afdc304b-0-11\" class=\"displacy-label\" startOffset=\"50%\" side=\"left\" fill=\"currentColor\" text-anchor=\"middle\">prep</textPath>\n",
       "    </text>\n",
       "    <path class=\"displacy-arrowhead\" d=\"M1685.0,454.0 L1689.0,446.0 1681.0,446.0\" fill=\"currentColor\"/>\n",
       "</g>\n",
       "\n",
       "<g class=\"displacy-arrow\">\n",
       "    <path class=\"displacy-arc\" id=\"arrow-993c4fff086a4cff9e1b8ea7afdc304b-0-12\" stroke-width=\"2px\" d=\"M1712,452.0 1712,427.0 1835.0,427.0 1835.0,452.0\" fill=\"none\" stroke=\"currentColor\"/>\n",
       "    <text dy=\"1.25em\" style=\"font-size: 0.8em; letter-spacing: 1px\">\n",
       "        <textPath xlink:href=\"#arrow-993c4fff086a4cff9e1b8ea7afdc304b-0-12\" class=\"displacy-label\" startOffset=\"50%\" side=\"left\" fill=\"currentColor\" text-anchor=\"middle\">dep</textPath>\n",
       "    </text>\n",
       "    <path class=\"displacy-arrowhead\" d=\"M1835.0,454.0 L1839.0,446.0 1831.0,446.0\" fill=\"currentColor\"/>\n",
       "</g>\n",
       "\n",
       "<g class=\"displacy-arrow\">\n",
       "    <path class=\"displacy-arc\" id=\"arrow-993c4fff086a4cff9e1b8ea7afdc304b-0-13\" stroke-width=\"2px\" d=\"M2012,452.0 2012,427.0 2135.0,427.0 2135.0,452.0\" fill=\"none\" stroke=\"currentColor\"/>\n",
       "    <text dy=\"1.25em\" style=\"font-size: 0.8em; letter-spacing: 1px\">\n",
       "        <textPath xlink:href=\"#arrow-993c4fff086a4cff9e1b8ea7afdc304b-0-13\" class=\"displacy-label\" startOffset=\"50%\" side=\"left\" fill=\"currentColor\" text-anchor=\"middle\">compound</textPath>\n",
       "    </text>\n",
       "    <path class=\"displacy-arrowhead\" d=\"M2012,454.0 L2008,446.0 2016,446.0\" fill=\"currentColor\"/>\n",
       "</g>\n",
       "\n",
       "<g class=\"displacy-arrow\">\n",
       "    <path class=\"displacy-arc\" id=\"arrow-993c4fff086a4cff9e1b8ea7afdc304b-0-14\" stroke-width=\"2px\" d=\"M1712,452.0 1712,402.0 2138.0,402.0 2138.0,452.0\" fill=\"none\" stroke=\"currentColor\"/>\n",
       "    <text dy=\"1.25em\" style=\"font-size: 0.8em; letter-spacing: 1px\">\n",
       "        <textPath xlink:href=\"#arrow-993c4fff086a4cff9e1b8ea7afdc304b-0-14\" class=\"displacy-label\" startOffset=\"50%\" side=\"left\" fill=\"currentColor\" text-anchor=\"middle\">pobj</textPath>\n",
       "    </text>\n",
       "    <path class=\"displacy-arrowhead\" d=\"M2138.0,454.0 L2142.0,446.0 2134.0,446.0\" fill=\"currentColor\"/>\n",
       "</g>\n",
       "\n",
       "<g class=\"displacy-arrow\">\n",
       "    <path class=\"displacy-arc\" id=\"arrow-993c4fff086a4cff9e1b8ea7afdc304b-0-15\" stroke-width=\"2px\" d=\"M812,452.0 812,352.0 2294.0,352.0 2294.0,452.0\" fill=\"none\" stroke=\"currentColor\"/>\n",
       "    <text dy=\"1.25em\" style=\"font-size: 0.8em; letter-spacing: 1px\">\n",
       "        <textPath xlink:href=\"#arrow-993c4fff086a4cff9e1b8ea7afdc304b-0-15\" class=\"displacy-label\" startOffset=\"50%\" side=\"left\" fill=\"currentColor\" text-anchor=\"middle\">relcl</textPath>\n",
       "    </text>\n",
       "    <path class=\"displacy-arrowhead\" d=\"M2294.0,454.0 L2298.0,446.0 2290.0,446.0\" fill=\"currentColor\"/>\n",
       "</g>\n",
       "\n",
       "<g class=\"displacy-arrow\">\n",
       "    <path class=\"displacy-arc\" id=\"arrow-993c4fff086a4cff9e1b8ea7afdc304b-0-16\" stroke-width=\"2px\" d=\"M2462,452.0 2462,427.0 2585.0,427.0 2585.0,452.0\" fill=\"none\" stroke=\"currentColor\"/>\n",
       "    <text dy=\"1.25em\" style=\"font-size: 0.8em; letter-spacing: 1px\">\n",
       "        <textPath xlink:href=\"#arrow-993c4fff086a4cff9e1b8ea7afdc304b-0-16\" class=\"displacy-label\" startOffset=\"50%\" side=\"left\" fill=\"currentColor\" text-anchor=\"middle\">aux</textPath>\n",
       "    </text>\n",
       "    <path class=\"displacy-arrowhead\" d=\"M2462,454.0 L2458,446.0 2466,446.0\" fill=\"currentColor\"/>\n",
       "</g>\n",
       "\n",
       "<g class=\"displacy-arrow\">\n",
       "    <path class=\"displacy-arc\" id=\"arrow-993c4fff086a4cff9e1b8ea7afdc304b-0-17\" stroke-width=\"2px\" d=\"M2312,452.0 2312,402.0 2588.0,402.0 2588.0,452.0\" fill=\"none\" stroke=\"currentColor\"/>\n",
       "    <text dy=\"1.25em\" style=\"font-size: 0.8em; letter-spacing: 1px\">\n",
       "        <textPath xlink:href=\"#arrow-993c4fff086a4cff9e1b8ea7afdc304b-0-17\" class=\"displacy-label\" startOffset=\"50%\" side=\"left\" fill=\"currentColor\" text-anchor=\"middle\">xcomp</textPath>\n",
       "    </text>\n",
       "    <path class=\"displacy-arrowhead\" d=\"M2588.0,454.0 L2592.0,446.0 2584.0,446.0\" fill=\"currentColor\"/>\n",
       "</g>\n",
       "\n",
       "<g class=\"displacy-arrow\">\n",
       "    <path class=\"displacy-arc\" id=\"arrow-993c4fff086a4cff9e1b8ea7afdc304b-0-18\" stroke-width=\"2px\" d=\"M2762,452.0 2762,402.0 3038.0,402.0 3038.0,452.0\" fill=\"none\" stroke=\"currentColor\"/>\n",
       "    <text dy=\"1.25em\" style=\"font-size: 0.8em; letter-spacing: 1px\">\n",
       "        <textPath xlink:href=\"#arrow-993c4fff086a4cff9e1b8ea7afdc304b-0-18\" class=\"displacy-label\" startOffset=\"50%\" side=\"left\" fill=\"currentColor\" text-anchor=\"middle\">auxpass</textPath>\n",
       "    </text>\n",
       "    <path class=\"displacy-arrowhead\" d=\"M2762,454.0 L2758,446.0 2766,446.0\" fill=\"currentColor\"/>\n",
       "</g>\n",
       "\n",
       "<g class=\"displacy-arrow\">\n",
       "    <path class=\"displacy-arc\" id=\"arrow-993c4fff086a4cff9e1b8ea7afdc304b-0-19\" stroke-width=\"2px\" d=\"M2912,452.0 2912,427.0 3035.0,427.0 3035.0,452.0\" fill=\"none\" stroke=\"currentColor\"/>\n",
       "    <text dy=\"1.25em\" style=\"font-size: 0.8em; letter-spacing: 1px\">\n",
       "        <textPath xlink:href=\"#arrow-993c4fff086a4cff9e1b8ea7afdc304b-0-19\" class=\"displacy-label\" startOffset=\"50%\" side=\"left\" fill=\"currentColor\" text-anchor=\"middle\">neg</textPath>\n",
       "    </text>\n",
       "    <path class=\"displacy-arrowhead\" d=\"M2912,454.0 L2908,446.0 2916,446.0\" fill=\"currentColor\"/>\n",
       "</g>\n",
       "\n",
       "<g class=\"displacy-arrow\">\n",
       "    <path class=\"displacy-arc\" id=\"arrow-993c4fff086a4cff9e1b8ea7afdc304b-0-20\" stroke-width=\"2px\" d=\"M3062,452.0 3062,427.0 3185.0,427.0 3185.0,452.0\" fill=\"none\" stroke=\"currentColor\"/>\n",
       "    <text dy=\"1.25em\" style=\"font-size: 0.8em; letter-spacing: 1px\">\n",
       "        <textPath xlink:href=\"#arrow-993c4fff086a4cff9e1b8ea7afdc304b-0-20\" class=\"displacy-label\" startOffset=\"50%\" side=\"left\" fill=\"currentColor\" text-anchor=\"middle\">prep</textPath>\n",
       "    </text>\n",
       "    <path class=\"displacy-arrowhead\" d=\"M3185.0,454.0 L3189.0,446.0 3181.0,446.0\" fill=\"currentColor\"/>\n",
       "</g>\n",
       "\n",
       "<g class=\"displacy-arrow\">\n",
       "    <path class=\"displacy-arc\" id=\"arrow-993c4fff086a4cff9e1b8ea7afdc304b-0-21\" stroke-width=\"2px\" d=\"M3362,452.0 3362,377.0 3791.0,377.0 3791.0,452.0\" fill=\"none\" stroke=\"currentColor\"/>\n",
       "    <text dy=\"1.25em\" style=\"font-size: 0.8em; letter-spacing: 1px\">\n",
       "        <textPath xlink:href=\"#arrow-993c4fff086a4cff9e1b8ea7afdc304b-0-21\" class=\"displacy-label\" startOffset=\"50%\" side=\"left\" fill=\"currentColor\" text-anchor=\"middle\">det</textPath>\n",
       "    </text>\n",
       "    <path class=\"displacy-arrowhead\" d=\"M3362,454.0 L3358,446.0 3366,446.0\" fill=\"currentColor\"/>\n",
       "</g>\n",
       "\n",
       "<g class=\"displacy-arrow\">\n",
       "    <path class=\"displacy-arc\" id=\"arrow-993c4fff086a4cff9e1b8ea7afdc304b-0-22\" stroke-width=\"2px\" d=\"M3512,452.0 3512,402.0 3788.0,402.0 3788.0,452.0\" fill=\"none\" stroke=\"currentColor\"/>\n",
       "    <text dy=\"1.25em\" style=\"font-size: 0.8em; letter-spacing: 1px\">\n",
       "        <textPath xlink:href=\"#arrow-993c4fff086a4cff9e1b8ea7afdc304b-0-22\" class=\"displacy-label\" startOffset=\"50%\" side=\"left\" fill=\"currentColor\" text-anchor=\"middle\">amod</textPath>\n",
       "    </text>\n",
       "    <path class=\"displacy-arrowhead\" d=\"M3512,454.0 L3508,446.0 3516,446.0\" fill=\"currentColor\"/>\n",
       "</g>\n",
       "\n",
       "<g class=\"displacy-arrow\">\n",
       "    <path class=\"displacy-arc\" id=\"arrow-993c4fff086a4cff9e1b8ea7afdc304b-0-23\" stroke-width=\"2px\" d=\"M3512,452.0 3512,427.0 3635.0,427.0 3635.0,452.0\" fill=\"none\" stroke=\"currentColor\"/>\n",
       "    <text dy=\"1.25em\" style=\"font-size: 0.8em; letter-spacing: 1px\">\n",
       "        <textPath xlink:href=\"#arrow-993c4fff086a4cff9e1b8ea7afdc304b-0-23\" class=\"displacy-label\" startOffset=\"50%\" side=\"left\" fill=\"currentColor\" text-anchor=\"middle\">dep</textPath>\n",
       "    </text>\n",
       "    <path class=\"displacy-arrowhead\" d=\"M3635.0,454.0 L3639.0,446.0 3631.0,446.0\" fill=\"currentColor\"/>\n",
       "</g>\n",
       "\n",
       "<g class=\"displacy-arrow\">\n",
       "    <path class=\"displacy-arc\" id=\"arrow-993c4fff086a4cff9e1b8ea7afdc304b-0-24\" stroke-width=\"2px\" d=\"M3212,452.0 3212,352.0 3794.0,352.0 3794.0,452.0\" fill=\"none\" stroke=\"currentColor\"/>\n",
       "    <text dy=\"1.25em\" style=\"font-size: 0.8em; letter-spacing: 1px\">\n",
       "        <textPath xlink:href=\"#arrow-993c4fff086a4cff9e1b8ea7afdc304b-0-24\" class=\"displacy-label\" startOffset=\"50%\" side=\"left\" fill=\"currentColor\" text-anchor=\"middle\">pobj</textPath>\n",
       "    </text>\n",
       "    <path class=\"displacy-arrowhead\" d=\"M3794.0,454.0 L3798.0,446.0 3790.0,446.0\" fill=\"currentColor\"/>\n",
       "</g>\n",
       "\n",
       "<g class=\"displacy-arrow\">\n",
       "    <path class=\"displacy-arc\" id=\"arrow-993c4fff086a4cff9e1b8ea7afdc304b-0-25\" stroke-width=\"2px\" d=\"M3812,452.0 3812,427.0 3935.0,427.0 3935.0,452.0\" fill=\"none\" stroke=\"currentColor\"/>\n",
       "    <text dy=\"1.25em\" style=\"font-size: 0.8em; letter-spacing: 1px\">\n",
       "        <textPath xlink:href=\"#arrow-993c4fff086a4cff9e1b8ea7afdc304b-0-25\" class=\"displacy-label\" startOffset=\"50%\" side=\"left\" fill=\"currentColor\" text-anchor=\"middle\">prep</textPath>\n",
       "    </text>\n",
       "    <path class=\"displacy-arrowhead\" d=\"M3935.0,454.0 L3939.0,446.0 3931.0,446.0\" fill=\"currentColor\"/>\n",
       "</g>\n",
       "\n",
       "<g class=\"displacy-arrow\">\n",
       "    <path class=\"displacy-arc\" id=\"arrow-993c4fff086a4cff9e1b8ea7afdc304b-0-26\" stroke-width=\"2px\" d=\"M4112,452.0 4112,427.0 4235.0,427.0 4235.0,452.0\" fill=\"none\" stroke=\"currentColor\"/>\n",
       "    <text dy=\"1.25em\" style=\"font-size: 0.8em; letter-spacing: 1px\">\n",
       "        <textPath xlink:href=\"#arrow-993c4fff086a4cff9e1b8ea7afdc304b-0-26\" class=\"displacy-label\" startOffset=\"50%\" side=\"left\" fill=\"currentColor\" text-anchor=\"middle\">det</textPath>\n",
       "    </text>\n",
       "    <path class=\"displacy-arrowhead\" d=\"M4112,454.0 L4108,446.0 4116,446.0\" fill=\"currentColor\"/>\n",
       "</g>\n",
       "\n",
       "<g class=\"displacy-arrow\">\n",
       "    <path class=\"displacy-arc\" id=\"arrow-993c4fff086a4cff9e1b8ea7afdc304b-0-27\" stroke-width=\"2px\" d=\"M3962,452.0 3962,402.0 4238.0,402.0 4238.0,452.0\" fill=\"none\" stroke=\"currentColor\"/>\n",
       "    <text dy=\"1.25em\" style=\"font-size: 0.8em; letter-spacing: 1px\">\n",
       "        <textPath xlink:href=\"#arrow-993c4fff086a4cff9e1b8ea7afdc304b-0-27\" class=\"displacy-label\" startOffset=\"50%\" side=\"left\" fill=\"currentColor\" text-anchor=\"middle\">pobj</textPath>\n",
       "    </text>\n",
       "    <path class=\"displacy-arrowhead\" d=\"M4238.0,454.0 L4242.0,446.0 4234.0,446.0\" fill=\"currentColor\"/>\n",
       "</g>\n",
       "\n",
       "<g class=\"displacy-arrow\">\n",
       "    <path class=\"displacy-arc\" id=\"arrow-993c4fff086a4cff9e1b8ea7afdc304b-0-28\" stroke-width=\"2px\" d=\"M4262,452.0 4262,427.0 4385.0,427.0 4385.0,452.0\" fill=\"none\" stroke=\"currentColor\"/>\n",
       "    <text dy=\"1.25em\" style=\"font-size: 0.8em; letter-spacing: 1px\">\n",
       "        <textPath xlink:href=\"#arrow-993c4fff086a4cff9e1b8ea7afdc304b-0-28\" class=\"displacy-label\" startOffset=\"50%\" side=\"left\" fill=\"currentColor\" text-anchor=\"middle\">cc</textPath>\n",
       "    </text>\n",
       "    <path class=\"displacy-arrowhead\" d=\"M4385.0,454.0 L4389.0,446.0 4381.0,446.0\" fill=\"currentColor\"/>\n",
       "</g>\n",
       "\n",
       "<g class=\"displacy-arrow\">\n",
       "    <path class=\"displacy-arc\" id=\"arrow-993c4fff086a4cff9e1b8ea7afdc304b-0-29\" stroke-width=\"2px\" d=\"M4562,452.0 4562,427.0 4685.0,427.0 4685.0,452.0\" fill=\"none\" stroke=\"currentColor\"/>\n",
       "    <text dy=\"1.25em\" style=\"font-size: 0.8em; letter-spacing: 1px\">\n",
       "        <textPath xlink:href=\"#arrow-993c4fff086a4cff9e1b8ea7afdc304b-0-29\" class=\"displacy-label\" startOffset=\"50%\" side=\"left\" fill=\"currentColor\" text-anchor=\"middle\">poss</textPath>\n",
       "    </text>\n",
       "    <path class=\"displacy-arrowhead\" d=\"M4562,454.0 L4558,446.0 4566,446.0\" fill=\"currentColor\"/>\n",
       "</g>\n",
       "\n",
       "<g class=\"displacy-arrow\">\n",
       "    <path class=\"displacy-arc\" id=\"arrow-993c4fff086a4cff9e1b8ea7afdc304b-0-30\" stroke-width=\"2px\" d=\"M4262,452.0 4262,402.0 4688.0,402.0 4688.0,452.0\" fill=\"none\" stroke=\"currentColor\"/>\n",
       "    <text dy=\"1.25em\" style=\"font-size: 0.8em; letter-spacing: 1px\">\n",
       "        <textPath xlink:href=\"#arrow-993c4fff086a4cff9e1b8ea7afdc304b-0-30\" class=\"displacy-label\" startOffset=\"50%\" side=\"left\" fill=\"currentColor\" text-anchor=\"middle\">conj</textPath>\n",
       "    </text>\n",
       "    <path class=\"displacy-arrowhead\" d=\"M4688.0,454.0 L4692.0,446.0 4684.0,446.0\" fill=\"currentColor\"/>\n",
       "</g>\n",
       "</svg></span>"
      ],
      "text/plain": [
       "<IPython.core.display.HTML object>"
      ]
     },
     "metadata": {},
     "output_type": "display_data"
    }
   ],
   "source": [
    "from spacy import displacy\n",
    "\n",
    "displacy.render(first_sentence, style='dep', jupyter=True, options={'compact':'True'})"
   ]
  },
  {
   "cell_type": "markdown",
   "id": "b566cc13-0a56-4c3e-a2b1-254a05acfbde",
   "metadata": {},
   "source": [
    "This shows the parts of speech along the bottom and their dependency relations, schematically, across the top."
   ]
  },
  {
   "cell_type": "markdown",
   "id": "04b65ad1-9a5f-45fb-b96c-ce94cf0e54f9",
   "metadata": {},
   "source": [
    "## Named Entity Recognition\n",
    "\n",
    "Let's look briefly at another element of the NLP pipeline, named entity recognition. Here's a basic utility function that will show the entities in any given text."
   ]
  },
  {
   "cell_type": "code",
   "execution_count": 25,
   "id": "adc14789-7e8f-426e-81c9-3fe4fc7f8185",
   "metadata": {},
   "outputs": [],
   "source": [
    "def show_ents(doc):\n",
    "    if doc.ents:\n",
    "        for ent in doc.ents:\n",
    "            print(ent.text + ' - ' + ent.label_ + ' - ' + str(spacy.explain(ent.label_)))"
   ]
  },
  {
   "cell_type": "markdown",
   "id": "4591d405-d7d5-496a-8015-e59e8bb82a83",
   "metadata": {},
   "source": [
    "This function accepts a `doc` object. Notice it then asks whether the `doc` object has an `ents` property that is not empty. If the `ents` property is not empty, it loops over the entities and displays some information about them."
   ]
  },
  {
   "cell_type": "code",
   "execution_count": 26,
   "id": "ce9c05ea-45da-40ce-a84b-77bbbb949614",
   "metadata": {
    "scrolled": true
   },
   "outputs": [
    {
     "name": "stdout",
     "output_type": "stream",
     "text": [
      "first - ORDINAL - \"first\", \"second\", etc.\n",
      "Thornfield Hall - ORG - Companies, agencies, institutions, etc.\n",
      "Fairfax - PERSON - People, including fictional\n",
      "quarter - CARDINAL - Numerals that do not fall under another type\n",
      "one inch - QUANTITY - Measurements, as of weight or distance\n",
      "Adèle’s - ORG - Companies, agencies, institutions, etc.\n",
      "Fairfax - GPE - Countries, cities, states\n",
      "Fairfax - PERSON - People, including fictional\n",
      "three - CARDINAL - Numerals that do not fall under another type\n",
      "Fairfax - PERSON - People, including fictional\n",
      "Adèle - GPE - Countries, cities, states\n",
      "third - ORDINAL - \"first\", \"second\", etc.\n",
      "Millions - CARDINAL - Numerals that do not fall under another type\n",
      "millions - CARDINAL - Numerals that do not fall under another type\n",
      "Grace Poole’s - PERSON - People, including fictional\n",
      "first - ORDINAL - \"first\", \"second\", etc.\n",
      "John - PERSON - People, including fictional\n",
      "Sophie - ORG - Companies, agencies, institutions, etc.\n",
      "French - NORP - Nationalities or religious or political groups\n",
      "Sophie - ORG - Companies, agencies, institutions, etc.\n",
      "French - NORP - Nationalities or religious or political groups\n",
      "October, November, December - DATE - Absolute or relative dates or periods\n",
      "One afternoon - TIME - Times smaller than a day\n",
      "January - DATE - Absolute or relative dates or periods\n",
      "Fairfax - GPE - Countries, cities, states\n",
      "Adèle - PERSON - People, including fictional\n",
      "Fairfax - PERSON - People, including fictional\n",
      "Hay - GPE - Countries, cities, states\n",
      "two miles - QUANTITY - Measurements, as of weight or distance\n",
      "winter afternoon - TIME - Times smaller than a day\n",
      "Fairfax - PERSON - People, including fictional\n",
      "ma bonne amie - PERSON - People, including fictional\n",
      "ma chère - PERSON - People, including fictional\n",
      "Mdlle - PERSON - People, including fictional\n",
      "Jeannette - PERSON - People, including fictional\n",
      "the hour - TIME - Times smaller than a day\n",
      "three o’clock - TIME - Times smaller than a day\n",
      "the hour - TIME - Times smaller than a day\n",
      "a mile - QUANTITY - Measurements, as of weight or distance\n",
      "Thornfield - GPE - Countries, cities, states\n",
      "summer - DATE - Absolute or relative dates or periods\n",
      "autumn - DATE - Absolute or relative dates or periods\n",
      "winter - DATE - Absolute or relative dates or periods\n",
      "Hay - GPE - Countries, cities, states\n",
      "some days - DATE - Absolute or relative dates or periods\n",
      "Thornfield - GPE - Countries, cities, states\n",
      "Hay - GPE - Countries, cities, states\n",
      "half - CARDINAL - Numerals that do not fall under another type\n",
      "a mile - QUANTITY - Measurements, as of weight or distance\n",
      "evening - TIME - Times smaller than a day\n",
      "those days - DATE - Absolute or relative dates or periods\n",
      "Bessie’s - PERSON - People, including fictional\n",
      "Bessie’s\n",
      "Gytrash - PERSON - People, including fictional\n",
      "Gytrash - PERSON - People, including fictional\n",
      "Gytrash - PERSON - People, including fictional\n",
      "Millcote - ORG - Companies, agencies, institutions, etc.\n",
      "do,—there - PERSON - People, including fictional\n",
      "one - CARDINAL - Numerals that do not fall under another type\n",
      "first - ORDINAL - \"first\", \"second\", etc.\n",
      "Down, Pilot - WORK_OF_ART - Titles of books, songs, etc.\n",
      "Thornfield Hall - ORG - Companies, agencies, institutions, etc.\n",
      "Hay - GPE - Countries, cities, states\n",
      "thirty-five - CARDINAL - Numerals that do not fall under another type\n",
      "so late an hour - TIME - Times smaller than a day\n",
      "Thornfield Hall - ORG - Companies, agencies, institutions, etc.\n",
      "one - CARDINAL - Numerals that do not fall under another type\n",
      "Rochester - PERSON - People, including fictional\n",
      "Rochester - PERSON - People, including fictional\n",
      "two minutes - TIME - Times smaller than a day\n",
      "Mahomet - PERSON - People, including fictional\n",
      "Mahomet - PERSON - People, including fictional\n",
      "Hay - GPE - Countries, cities, states\n",
      "first - ORDINAL - \"first\", \"second\", etc.\n",
      "three - CARDINAL - Numerals that do not fall under another type\n",
      "one single hour - TIME - Times smaller than a day\n",
      "firstly - ORDINAL - \"first\", \"second\", etc.\n",
      "secondly - ORDINAL - \"first\", \"second\", etc.\n",
      "a minute - TIME - Times smaller than a day\n",
      "Newfoundland - PERSON - People, including fictional\n",
      "Thornfield - GPE - Countries, cities, states\n",
      "a mile - QUANTITY - Measurements, as of weight or distance\n",
      "Thornfield - GPE - Countries, cities, states\n",
      "Fairfax - PERSON - People, including fictional\n",
      "the long winter - DATE - Absolute or relative dates or periods\n",
      "evening - TIME - Times smaller than a day\n",
      "midnight - TIME - Times smaller than a day\n",
      "two - CARDINAL - Numerals that do not fall under another type\n",
      "Adèle - GPE - Countries, cities, states\n",
      "Fairfax - PERSON - People, including fictional\n",
      "Fairfax - PERSON - People, including fictional\n",
      "Rochester - PERSON - People, including fictional\n",
      "Fairfax - PERSON - People, including fictional\n",
      "John - PERSON - People, including fictional\n",
      "Hay Lane - GPE - Countries, cities, states\n",
      "Fairfax - PERSON - People, including fictional\n",
      "Carter - PERSON - People, including fictional\n",
      "Rochester - PERSON - People, including fictional\n"
     ]
    }
   ],
   "source": [
    "show_ents(nlp(chapter12))"
   ]
  },
  {
   "cell_type": "markdown",
   "id": "156bd0ad-39b6-4bae-b24f-c5d16308140e",
   "metadata": {},
   "source": [
    "NER is excellent but often imperfect. To do a good analysis of a text may often require customizing the entities. For example, here the spaCy NER pipeliine believes that Adèle is an organization. We could overrule this."
   ]
  },
  {
   "cell_type": "code",
   "execution_count": 27,
   "id": "947f0d83-099d-459f-bb1b-2d40cdbc959a",
   "metadata": {
    "scrolled": true
   },
   "outputs": [
    {
     "name": "stdout",
     "output_type": "stream",
     "text": [
      "first ORDINAL\n",
      "Thornfield Hall ORG\n",
      "Fairfax PERSON\n",
      "quarter CARDINAL\n",
      "one inch QUANTITY\n",
      "Adèle PERSON\n",
      "Fairfax GPE\n",
      "Adèle PERSON\n",
      "Fairfax PERSON\n",
      "three CARDINAL\n"
     ]
    }
   ],
   "source": [
    "from spacy.pipeline import EntityRuler\n",
    "\n",
    "nlp = spacy.load(\"en_core_web_sm\")\n",
    "ruler = nlp.add_pipe(\"entity_ruler\", before=\"ner\")\n",
    "\n",
    "patterns = [{\"label\": \"PERSON\", \"pattern\": \"Adèle\"}]\n",
    "ruler.add_patterns(patterns)\n",
    "\n",
    "doc = nlp(chapter12)\n",
    "\n",
    "for ent in doc.ents[:10]:\n",
    "    print(ent.text, ent.label_)"
   ]
  },
  {
   "cell_type": "markdown",
   "id": "191f2a12-ec80-4bbd-9d3e-164878554be5",
   "metadata": {},
   "source": [
    "Adèle is now a person. We can likewise remove entities or add completely new entities and even entity categories.\n",
    "\n",
    "Like parts of speech and dependency relations, entities have a visualizer."
   ]
  },
  {
   "cell_type": "code",
   "execution_count": 28,
   "id": "0053c594-5a15-456e-ae7a-6830c51bdb15",
   "metadata": {
    "scrolled": true
   },
   "outputs": [
    {
     "data": {
      "text/html": [
       "<span class=\"tex2jax_ignore\"><div class=\"entities\" style=\"line-height: 2.5; direction: ltr\">The promise of a smooth career, which my \n",
       "<mark class=\"entity\" style=\"background: #e4e7d2; padding: 0.45em 0.6em; margin: 0 0.25em; line-height: 1; border-radius: 0.35em;\">\n",
       "    first\n",
       "    <span style=\"font-size: 0.8em; font-weight: bold; line-height: 1; border-radius: 0.35em; vertical-align: middle; margin-left: 0.5rem\">ORDINAL</span>\n",
       "</mark>\n",
       " calm introduction to<br>\n",
       "<mark class=\"entity\" style=\"background: #7aecec; padding: 0.45em 0.6em; margin: 0 0.25em; line-height: 1; border-radius: 0.35em;\">\n",
       "    Thornfield Hall\n",
       "    <span style=\"font-size: 0.8em; font-weight: bold; line-height: 1; border-radius: 0.35em; vertical-align: middle; margin-left: 0.5rem\">ORG</span>\n",
       "</mark>\n",
       " seemed to pledge, was not belied on a longer<br>acquaintance with the place and its inmates. </div></span>"
      ],
      "text/plain": [
       "<IPython.core.display.HTML object>"
      ]
     },
     "metadata": {},
     "output_type": "display_data"
    },
    {
     "data": {
      "text/html": [
       "<span class=\"tex2jax_ignore\"><div class=\"entities\" style=\"line-height: 2.5; direction: ltr\">Mrs. \n",
       "<mark class=\"entity\" style=\"background: #aa9cfc; padding: 0.45em 0.6em; margin: 0 0.25em; line-height: 1; border-radius: 0.35em;\">\n",
       "    Fairfax\n",
       "    <span style=\"font-size: 0.8em; font-weight: bold; line-height: 1; border-radius: 0.35em; vertical-align: middle; margin-left: 0.5rem\">PERSON</span>\n",
       "</mark>\n",
       " turned out to<br>be what she appeared, a placid-tempered, kind-natured woman, of<br>competent education and average intelligence. </div></span>"
      ],
      "text/plain": [
       "<IPython.core.display.HTML object>"
      ]
     },
     "metadata": {},
     "output_type": "display_data"
    },
    {
     "data": {
      "text/html": [
       "<span class=\"tex2jax_ignore\"><div class=\"entities\" style=\"line-height: 2.5; direction: ltr\">My pupil was a lively<br>child, who had been spoilt and indulged, and therefore was sometimes<br>wayward; but as she was committed entirely to my care, and no<br>injudicious interference from any \n",
       "<mark class=\"entity\" style=\"background: #e4e7d2; padding: 0.45em 0.6em; margin: 0 0.25em; line-height: 1; border-radius: 0.35em;\">\n",
       "    quarter\n",
       "    <span style=\"font-size: 0.8em; font-weight: bold; line-height: 1; border-radius: 0.35em; vertical-align: middle; margin-left: 0.5rem\">CARDINAL</span>\n",
       "</mark>\n",
       " ever thwarted my plans for<br>her improvement, she soon forgot her little freaks, and became obedient<br>and teachable. </div></span>"
      ],
      "text/plain": [
       "<IPython.core.display.HTML object>"
      ]
     },
     "metadata": {},
     "output_type": "display_data"
    },
    {
     "data": {
      "text/html": [
       "<span class=\"tex2jax_ignore\"><div class=\"entities\" style=\"line-height: 2.5; direction: ltr\">She had no great talents, no marked traits of character,<br>no peculiar development of feeling or taste which raised her \n",
       "<mark class=\"entity\" style=\"background: #e4e7d2; padding: 0.45em 0.6em; margin: 0 0.25em; line-height: 1; border-radius: 0.35em;\">\n",
       "    one inch\n",
       "    <span style=\"font-size: 0.8em; font-weight: bold; line-height: 1; border-radius: 0.35em; vertical-align: middle; margin-left: 0.5rem\">QUANTITY</span>\n",
       "</mark>\n",
       "<br>above the ordinary level of childhood; but neither had she any<br>deficiency or vice which sunk her below it. </div></span>"
      ],
      "text/plain": [
       "<IPython.core.display.HTML object>"
      ]
     },
     "metadata": {},
     "output_type": "display_data"
    },
    {
     "data": {
      "text/html": [
       "<span class=\"tex2jax_ignore\"><div class=\"entities\" style=\"line-height: 2.5; direction: ltr\">I felt<br>a conscientious solicitude for \n",
       "<mark class=\"entity\" style=\"background: #aa9cfc; padding: 0.45em 0.6em; margin: 0 0.25em; line-height: 1; border-radius: 0.35em;\">\n",
       "    Adèle\n",
       "    <span style=\"font-size: 0.8em; font-weight: bold; line-height: 1; border-radius: 0.35em; vertical-align: middle; margin-left: 0.5rem\">PERSON</span>\n",
       "</mark>\n",
       "’s welfare and progress, and a<br>quiet liking for her little self: just as I cherished towards Mrs.<br>\n",
       "<mark class=\"entity\" style=\"background: #feca74; padding: 0.45em 0.6em; margin: 0 0.25em; line-height: 1; border-radius: 0.35em;\">\n",
       "    Fairfax\n",
       "    <span style=\"font-size: 0.8em; font-weight: bold; line-height: 1; border-radius: 0.35em; vertical-align: middle; margin-left: 0.5rem\">GPE</span>\n",
       "</mark>\n",
       " a thankfulness for her kindness, and a pleasure in her society<br>proportionate to the tranquil regard she had for me, and the moderation<br>of her mind and character.<br><br></div></span>"
      ],
      "text/plain": [
       "<IPython.core.display.HTML object>"
      ]
     },
     "metadata": {},
     "output_type": "display_data"
    },
    {
     "data": {
      "text/html": [
       "<span class=\"tex2jax_ignore\"><div class=\"entities\" style=\"line-height: 2.5; direction: ltr\">Anybody may blame me who likes, when I add further, that, now and then,<br>when I took a walk by myself in the grounds; when I went down to the<br>gates and looked through them along the road; or when, while \n",
       "<mark class=\"entity\" style=\"background: #aa9cfc; padding: 0.45em 0.6em; margin: 0 0.25em; line-height: 1; border-radius: 0.35em;\">\n",
       "    Adèle\n",
       "    <span style=\"font-size: 0.8em; font-weight: bold; line-height: 1; border-radius: 0.35em; vertical-align: middle; margin-left: 0.5rem\">PERSON</span>\n",
       "</mark>\n",
       "<br>played with her nurse, and Mrs. \n",
       "<mark class=\"entity\" style=\"background: #aa9cfc; padding: 0.45em 0.6em; margin: 0 0.25em; line-height: 1; border-radius: 0.35em;\">\n",
       "    Fairfax\n",
       "    <span style=\"font-size: 0.8em; font-weight: bold; line-height: 1; border-radius: 0.35em; vertical-align: middle; margin-left: 0.5rem\">PERSON</span>\n",
       "</mark>\n",
       " made jellies in the storeroom,<br>I climbed the \n",
       "<mark class=\"entity\" style=\"background: #e4e7d2; padding: 0.45em 0.6em; margin: 0 0.25em; line-height: 1; border-radius: 0.35em;\">\n",
       "    three\n",
       "    <span style=\"font-size: 0.8em; font-weight: bold; line-height: 1; border-radius: 0.35em; vertical-align: middle; margin-left: 0.5rem\">CARDINAL</span>\n",
       "</mark>\n",
       " staircases, raised the trap-door of the attic, and<br>having reached the leads, looked out afar over sequestered field and<br>hill, and along dim sky-line—that then I longed for a power of vision<br>which might overpass that limit; which might reach the busy world,<br>towns, regions full of life I had heard of but never seen—that then I<br>desired more of practical experience than I possessed; more of<br>intercourse with my kind, of acquaintance with variety of character,<br>than was here within my reach. </div></span>"
      ],
      "text/plain": [
       "<IPython.core.display.HTML object>"
      ]
     },
     "metadata": {},
     "output_type": "display_data"
    },
    {
     "data": {
      "text/html": [
       "<span class=\"tex2jax_ignore\"><div class=\"entities\" style=\"line-height: 2.5; direction: ltr\">I valued what was good in Mrs. \n",
       "<mark class=\"entity\" style=\"background: #aa9cfc; padding: 0.45em 0.6em; margin: 0 0.25em; line-height: 1; border-radius: 0.35em;\">\n",
       "    Fairfax\n",
       "    <span style=\"font-size: 0.8em; font-weight: bold; line-height: 1; border-radius: 0.35em; vertical-align: middle; margin-left: 0.5rem\">PERSON</span>\n",
       "</mark>\n",
       ",<br>and what was good in \n",
       "<mark class=\"entity\" style=\"background: #aa9cfc; padding: 0.45em 0.6em; margin: 0 0.25em; line-height: 1; border-radius: 0.35em;\">\n",
       "    Adèle\n",
       "    <span style=\"font-size: 0.8em; font-weight: bold; line-height: 1; border-radius: 0.35em; vertical-align: middle; margin-left: 0.5rem\">PERSON</span>\n",
       "</mark>\n",
       "; but I believed in the existence of other<br>and more vivid kinds of goodness, and what I believed in I wished to<br>behold.<br><br></div></span>"
      ],
      "text/plain": [
       "<IPython.core.display.HTML object>"
      ]
     },
     "metadata": {},
     "output_type": "display_data"
    },
    {
     "data": {
      "text/html": [
       "<span class=\"tex2jax_ignore\"><div class=\"entities\" style=\"line-height: 2.5; direction: ltr\">Then my sole relief was to walk along the corridor of<br>the \n",
       "<mark class=\"entity\" style=\"background: #e4e7d2; padding: 0.45em 0.6em; margin: 0 0.25em; line-height: 1; border-radius: 0.35em;\">\n",
       "    third\n",
       "    <span style=\"font-size: 0.8em; font-weight: bold; line-height: 1; border-radius: 0.35em; vertical-align: middle; margin-left: 0.5rem\">ORDINAL</span>\n",
       "</mark>\n",
       " storey, backwards and forwards, safe in the silence and<br>solitude of the spot, and allow my mind’s eye to dwell on whatever<br>bright visions rose before it—and, certainly, they were many and<br>glowing; to let my heart be heaved by the exultant movement, which,<br>while it swelled it in trouble, expanded it with life; and, best of<br>all, to open my inward ear to a tale that was never ended—a tale my<br>imagination created, and narrated continuously; quickened with all of<br>incident, life, fire, feeling, that I desired and had not in my actual<br>existence.<br><br></div></span>"
      ],
      "text/plain": [
       "<IPython.core.display.HTML object>"
      ]
     },
     "metadata": {},
     "output_type": "display_data"
    },
    {
     "data": {
      "text/html": [
       "<span class=\"tex2jax_ignore\"><div class=\"entities\" style=\"line-height: 2.5; direction: ltr\">\n",
       "<mark class=\"entity\" style=\"background: #e4e7d2; padding: 0.45em 0.6em; margin: 0 0.25em; line-height: 1; border-radius: 0.35em;\">\n",
       "    Millions\n",
       "    <span style=\"font-size: 0.8em; font-weight: bold; line-height: 1; border-radius: 0.35em; vertical-align: middle; margin-left: 0.5rem\">CARDINAL</span>\n",
       "</mark>\n",
       " are condemned to a stiller doom than mine, and<br>\n",
       "<mark class=\"entity\" style=\"background: #e4e7d2; padding: 0.45em 0.6em; margin: 0 0.25em; line-height: 1; border-radius: 0.35em;\">\n",
       "    millions\n",
       "    <span style=\"font-size: 0.8em; font-weight: bold; line-height: 1; border-radius: 0.35em; vertical-align: middle; margin-left: 0.5rem\">CARDINAL</span>\n",
       "</mark>\n",
       " are in silent revolt against their lot. </div></span>"
      ],
      "text/plain": [
       "<IPython.core.display.HTML object>"
      ]
     },
     "metadata": {},
     "output_type": "display_data"
    },
    {
     "data": {
      "text/html": [
       "<span class=\"tex2jax_ignore\"><div class=\"entities\" style=\"line-height: 2.5; direction: ltr\">When thus alone, I not unfrequently heard \n",
       "<mark class=\"entity\" style=\"background: #aa9cfc; padding: 0.45em 0.6em; margin: 0 0.25em; line-height: 1; border-radius: 0.35em;\">\n",
       "    Grace Poole’s\n",
       "    <span style=\"font-size: 0.8em; font-weight: bold; line-height: 1; border-radius: 0.35em; vertical-align: middle; margin-left: 0.5rem\">PERSON</span>\n",
       "</mark>\n",
       " laugh: the same<br>peal, the same low, slow ha! ha! </div></span>"
      ],
      "text/plain": [
       "<IPython.core.display.HTML object>"
      ]
     },
     "metadata": {},
     "output_type": "display_data"
    },
    {
     "data": {
      "text/html": [
       "<span class=\"tex2jax_ignore\"><div class=\"entities\" style=\"line-height: 2.5; direction: ltr\">which, when \n",
       "<mark class=\"entity\" style=\"background: #e4e7d2; padding: 0.45em 0.6em; margin: 0 0.25em; line-height: 1; border-radius: 0.35em;\">\n",
       "    first\n",
       "    <span style=\"font-size: 0.8em; font-weight: bold; line-height: 1; border-radius: 0.35em; vertical-align: middle; margin-left: 0.5rem\">ORDINAL</span>\n",
       "</mark>\n",
       " heard, had thrilled<br>me: I heard, too, her eccentric murmurs; stranger than her laugh. </div></span>"
      ],
      "text/plain": [
       "<IPython.core.display.HTML object>"
      ]
     },
     "metadata": {},
     "output_type": "display_data"
    },
    {
     "data": {
      "text/html": [
       "<span class=\"tex2jax_ignore\"><div class=\"entities\" style=\"line-height: 2.5; direction: ltr\">The other members of the household, viz., \n",
       "<mark class=\"entity\" style=\"background: #aa9cfc; padding: 0.45em 0.6em; margin: 0 0.25em; line-height: 1; border-radius: 0.35em;\">\n",
       "    John\n",
       "    <span style=\"font-size: 0.8em; font-weight: bold; line-height: 1; border-radius: 0.35em; vertical-align: middle; margin-left: 0.5rem\">PERSON</span>\n",
       "</mark>\n",
       " and his wife, Leah the<br>housemaid, and \n",
       "<mark class=\"entity\" style=\"background: #7aecec; padding: 0.45em 0.6em; margin: 0 0.25em; line-height: 1; border-radius: 0.35em;\">\n",
       "    Sophie\n",
       "    <span style=\"font-size: 0.8em; font-weight: bold; line-height: 1; border-radius: 0.35em; vertical-align: middle; margin-left: 0.5rem\">ORG</span>\n",
       "</mark>\n",
       " the \n",
       "<mark class=\"entity\" style=\"background: #c887fb; padding: 0.45em 0.6em; margin: 0 0.25em; line-height: 1; border-radius: 0.35em;\">\n",
       "    French\n",
       "    <span style=\"font-size: 0.8em; font-weight: bold; line-height: 1; border-radius: 0.35em; vertical-align: middle; margin-left: 0.5rem\">NORP</span>\n",
       "</mark>\n",
       " nurse, were decent people; but in no<br>respect remarkable; with \n",
       "<mark class=\"entity\" style=\"background: #7aecec; padding: 0.45em 0.6em; margin: 0 0.25em; line-height: 1; border-radius: 0.35em;\">\n",
       "    Sophie\n",
       "    <span style=\"font-size: 0.8em; font-weight: bold; line-height: 1; border-radius: 0.35em; vertical-align: middle; margin-left: 0.5rem\">ORG</span>\n",
       "</mark>\n",
       " I used to talk \n",
       "<mark class=\"entity\" style=\"background: #c887fb; padding: 0.45em 0.6em; margin: 0 0.25em; line-height: 1; border-radius: 0.35em;\">\n",
       "    French\n",
       "    <span style=\"font-size: 0.8em; font-weight: bold; line-height: 1; border-radius: 0.35em; vertical-align: middle; margin-left: 0.5rem\">NORP</span>\n",
       "</mark>\n",
       ", and sometimes I<br>asked her questions about her native country; but she was not of a<br>descriptive or narrative turn, and generally gave such vapid and<br>confused answers as were calculated rather to check than encourage<br>inquiry.<br><br></div></span>"
      ],
      "text/plain": [
       "<IPython.core.display.HTML object>"
      ]
     },
     "metadata": {},
     "output_type": "display_data"
    },
    {
     "data": {
      "text/html": [
       "<span class=\"tex2jax_ignore\"><div class=\"entities\" style=\"line-height: 2.5; direction: ltr\">\n",
       "<mark class=\"entity\" style=\"background: #bfe1d9; padding: 0.45em 0.6em; margin: 0 0.25em; line-height: 1; border-radius: 0.35em;\">\n",
       "    October, November, December\n",
       "    <span style=\"font-size: 0.8em; font-weight: bold; line-height: 1; border-radius: 0.35em; vertical-align: middle; margin-left: 0.5rem\">DATE</span>\n",
       "</mark>\n",
       " passed away. </div></span>"
      ],
      "text/plain": [
       "<IPython.core.display.HTML object>"
      ]
     },
     "metadata": {},
     "output_type": "display_data"
    },
    {
     "data": {
      "text/html": [
       "<span class=\"tex2jax_ignore\"><div class=\"entities\" style=\"line-height: 2.5; direction: ltr\">\n",
       "<mark class=\"entity\" style=\"background: #bfe1d9; padding: 0.45em 0.6em; margin: 0 0.25em; line-height: 1; border-radius: 0.35em;\">\n",
       "    One afternoon\n",
       "    <span style=\"font-size: 0.8em; font-weight: bold; line-height: 1; border-radius: 0.35em; vertical-align: middle; margin-left: 0.5rem\">TIME</span>\n",
       "</mark>\n",
       " in \n",
       "<mark class=\"entity\" style=\"background: #bfe1d9; padding: 0.45em 0.6em; margin: 0 0.25em; line-height: 1; border-radius: 0.35em;\">\n",
       "    January\n",
       "    <span style=\"font-size: 0.8em; font-weight: bold; line-height: 1; border-radius: 0.35em; vertical-align: middle; margin-left: 0.5rem\">DATE</span>\n",
       "</mark>\n",
       ", Mrs.<br>\n",
       "<mark class=\"entity\" style=\"background: #feca74; padding: 0.45em 0.6em; margin: 0 0.25em; line-height: 1; border-radius: 0.35em;\">\n",
       "    Fairfax\n",
       "    <span style=\"font-size: 0.8em; font-weight: bold; line-height: 1; border-radius: 0.35em; vertical-align: middle; margin-left: 0.5rem\">GPE</span>\n",
       "</mark>\n",
       " had begged a holiday for \n",
       "<mark class=\"entity\" style=\"background: #aa9cfc; padding: 0.45em 0.6em; margin: 0 0.25em; line-height: 1; border-radius: 0.35em;\">\n",
       "    Adèle\n",
       "    <span style=\"font-size: 0.8em; font-weight: bold; line-height: 1; border-radius: 0.35em; vertical-align: middle; margin-left: 0.5rem\">PERSON</span>\n",
       "</mark>\n",
       ", because she had a cold; and, as<br>\n",
       "<mark class=\"entity\" style=\"background: #aa9cfc; padding: 0.45em 0.6em; margin: 0 0.25em; line-height: 1; border-radius: 0.35em;\">\n",
       "    Adèle\n",
       "    <span style=\"font-size: 0.8em; font-weight: bold; line-height: 1; border-radius: 0.35em; vertical-align: middle; margin-left: 0.5rem\">PERSON</span>\n",
       "</mark>\n",
       " seconded the request with an ardour that reminded me how precious<br>occasional holidays had been to me in my own childhood, I accorded it,<br></div></span>"
      ],
      "text/plain": [
       "<IPython.core.display.HTML object>"
      ]
     },
     "metadata": {},
     "output_type": "display_data"
    }
   ],
   "source": [
    "for sentence in list(doc.sents)[:30]:\n",
    "    if sentence.ents:\n",
    "        displacy.render(sentence, style='ent', jupyter=True)"
   ]
  },
  {
   "cell_type": "markdown",
   "id": "d23402bb-31f9-4725-aba5-aa1dc3992d16",
   "metadata": {},
   "source": [
    "## Pattern Matching\n",
    "\n",
    "You can always use regular expressions with Python text processing to match patterns. However spaCy comes with its own pattern matcher that can be quicker and simpler to use sometimes, though regular expressions are still more flexible.\n",
    "\n",
    "Let's say we want to study how Charlotte Brontë wrote about eyes in Jane Eyre. First we are going to import the spacy Matcher library. Then we are going to create an instance of the matcher by passing it the specific vocabulary we are using. Remember, we loaded the English library. Our `nlp` object carries a vocabulary property derived from this library. Here, we call the Matcher method, hand it our vocabulary library, and generate a specific matcher instance called `matcher`. "
   ]
  },
  {
   "cell_type": "code",
   "execution_count": 29,
   "id": "975d1286-68bd-4308-9f5e-3f5c24728cbe",
   "metadata": {},
   "outputs": [],
   "source": [
    "from spacy.matcher import Matcher\n",
    "matcher = Matcher(nlp.vocab)"
   ]
  },
  {
   "cell_type": "markdown",
   "id": "938b6d34-635c-411b-b914-803a9493da7e",
   "metadata": {},
   "source": [
    "Now, we create a pattern. SpaCy patterns are lists of dictionaries. A dictionary in Python is a data structure with keys and values: `{'key':'value', 'key2':'value2'}`. Matcher patterns consist of a token attribute and a pattern. The full list of token attributes is in the spaCy documentation ([spacy Matcher docs](https://spacy.io/api/matcher/)). In this case, we are saying, find any instance in the text that, if lower-cased, matches the pattern 'eye'. This would match 'Eye' or 'eyes', for example."
   ]
  },
  {
   "cell_type": "code",
   "execution_count": 30,
   "id": "6eb8f493-46b5-45e6-8099-3e07218fe504",
   "metadata": {},
   "outputs": [],
   "source": [
    "pattern = [{'LOWER': 'eye'}]\n",
    "matcher.add('eyes', [pattern])"
   ]
  },
  {
   "cell_type": "markdown",
   "id": "68b99b33-dc98-4c02-9e6c-d6f0a1240537",
   "metadata": {},
   "source": [
    "Now we can pass our document to our matcher and save the results in a variable called `found_matches`. The result will be a list of tuples. In Python, a tuple is like a list, but it is immutable -- you can't add or remove items from a tuple, which makes it more efficient in terms of memory usage, though less flexible. Each match contains an id, a start index, and an end index."
   ]
  },
  {
   "cell_type": "code",
   "execution_count": 31,
   "id": "19e04153-bbfc-4ea3-bd7c-9dff2ad2036e",
   "metadata": {},
   "outputs": [
    {
     "name": "stdout",
     "output_type": "stream",
     "text": [
      "[(17253078544852491660, 672, 673), (17253078544852491660, 3632, 3633), (17253078544852491660, 4502, 4503)]\n"
     ]
    }
   ],
   "source": [
    "found_matches = matcher(doc)\n",
    "print(found_matches)"
   ]
  },
  {
   "cell_type": "markdown",
   "id": "72cb10f9-d3e1-4d5e-8a32-a1866674f624",
   "metadata": {},
   "source": [
    "If we want to see the context around the matches, we can use tuple destructuring. Since a tuple is immutable, and we know in this case it always has the same matches, we can use this Python syntax to extract its contents as individual variables: `match_id, start, end = match`. Here, we are looping over our matches and printing forty characters surrounding the match. This is often called a [**concordance**](https://en.wikipedia.org/wiki/Concordance_(publishing))."
   ]
  },
  {
   "cell_type": "code",
   "execution_count": 32,
   "id": "83a75844-b84d-47f3-afb6-d89f57975c5a",
   "metadata": {
    "scrolled": true
   },
   "outputs": [
    {
     "name": "stdout",
     "output_type": "stream",
     "text": [
      "backwards and forwards, safe in the silence and\n",
      "solitude of the spot, and allow my mind’s eye to dwell on whatever\n",
      "bright visions rose before it—and, certainly, they were many and\n",
      "\n",
      "not a servant at the hall, of course. You are—” He stopped,\n",
      "ran his eye over my dress, which, as usual, was quite simple: a black\n",
      "merino cloak, a\n",
      "Thornfield, a mile distant; and when I glanced down in\n",
      "the direction of the murmur, my eye, traversing the hall-front, caught\n",
      "a light kindling in a window: it reminded me that\n"
     ]
    }
   ],
   "source": [
    "for match in found_matches:\n",
    "    match_id, start, end = match\n",
    "    print(doc[start-20:end+20])"
   ]
  },
  {
   "cell_type": "markdown",
   "id": "e6db6be0-dc83-4287-8bae-9ca41d34d65b",
   "metadata": {},
   "source": [
    "We can also print out the full sentence for each match."
   ]
  },
  {
   "cell_type": "code",
   "execution_count": 33,
   "id": "31bf618a-783b-4b99-98c3-bc1093322a55",
   "metadata": {},
   "outputs": [
    {
     "name": "stdout",
     "output_type": "stream",
     "text": [
      "Then my sole relief was to walk along the corridor of\n",
      "the third storey, backwards and forwards, safe in the silence and\n",
      "solitude of the spot, and allow my mind’s eye to dwell on whatever\n",
      "bright visions rose before it—and, certainly, they were many and\n",
      "glowing; to let my heart be heaved by the exultant movement, which,\n",
      "while it swelled it in trouble, expanded it with life; and, best of\n",
      "all, to open my inward ear to a tale that was never ended—a tale my\n",
      "imagination created, and narrated continuously; quickened with all of\n",
      "incident, life, fire, feeling, that I desired and had not in my actual\n",
      "existence.\n",
      "\n",
      "\n",
      "-----------------------\n",
      "You are—” He stopped,\n",
      "ran his eye over my dress, which, as usual, was quite simple: a black\n",
      "merino cloak, a black beaver bonnet; neither of them half fine enough\n",
      "for a lady’s-maid.\n",
      "-----------------------\n",
      "When I came to the stile, I stopped a minute, looked\n",
      "round and listened, with an idea that a horse’s hoofs might ring on the\n",
      "causeway again, and that a rider in a cloak, and a Gytrash-like\n",
      "Newfoundland dog, might be again apparent: I saw only the hedge and a\n",
      "pollard willow before me, rising up still and straight to meet the\n",
      "moonbeams; I heard only the faintest waft of wind roaming fitful among\n",
      "the trees round Thornfield, a mile distant; and when I glanced down in\n",
      "the direction of the murmur, my eye, traversing the hall-front, caught\n",
      "a light kindling in a window: it reminded me that I was late, and I\n",
      "hurried on.\n",
      "\n",
      "\n",
      "-----------------------\n"
     ]
    }
   ],
   "source": [
    "for match in found_matches:\n",
    "    match_id, start, end = match\n",
    "    print(doc[start:end].sent.text)\n",
    "    print('-----------------------')"
   ]
  },
  {
   "cell_type": "markdown",
   "id": "2db48c22-b5ed-4b48-885e-c4f63d4699c6",
   "metadata": {},
   "source": [
    "## Lemmatisation\n",
    "\n",
    "In natural language, we understand that some words have many forms. The study of how words take on different forms is called [Morphology](https://en.wikipedia.org/wiki/Morphology_(linguistics)). In NLP, we sometimes want to treat different forms of a word as being in the same category. In the early days of computational linguistics, this was accomplished by [stemming algorithms](https://en.wikipedia.org/wiki/Stemming). These reduced words to word stems. However, with the development of more complex language libraries, stemming algorithms have given way to lemmatization algorithms. In contrast to a word's stem, a *lemma* is understood to be its dictionary form. Modern NLP libaries are able to determine the lemma of large numbers of words."
   ]
  },
  {
   "cell_type": "markdown",
   "id": "26cc1df5-1b35-48aa-9d8b-7466ea06af9a",
   "metadata": {},
   "source": [
    "SpaCy tokens have lemma properties. It is useful to see that lemmas have numerical codes. Some of the most common have simple numeric codes, but most are long numbers that are derived from hashing algorithms. These can be useful in distinguishing homophonous words, for example \"see\" as in \"to see something\", and \"see\" as in \"the Holy See\" are different words with different lemmas. In spaCy it is common for a token property alone to be a numeric code, and we can get the explicit term for it by adding an underscore."
   ]
  },
  {
   "cell_type": "code",
   "execution_count": 34,
   "id": "51fde7cc-5dc7-44fb-8faf-14cc80b579a3",
   "metadata": {
    "scrolled": true
   },
   "outputs": [
    {
     "name": "stdout",
     "output_type": "stream",
     "text": [
      "heard               hear                16158783587822825203\n",
      "thrilled            thrill              16877802511855043285\n",
      "heard               hear                16158783587822825203\n",
      "were                be                  10382539506755952630\n",
      "account             account             16051117652154763083\n",
      "made                make                9614445426764226664\n",
      "saw                 see                 11925638236994514241\n",
      "come                come                5307304325359566725\n",
      "go                  go                  8004577259940138793\n",
      "return              return              9563260825101828504\n",
      "forgive             forgive             10122195446053341928\n",
      "telling             tell                63172552626595070\n",
      "bearing             bear                3737373500888618661\n",
      "acted               act                 4330217062942772869\n",
      "raised              raise               5672587182617165530\n",
      "featured            feature             16417888112635110788\n",
      "had                 have                14692702688101715474\n",
      "attach              attach              7802076760905939230\n",
      "made                make                9614445426764226664\n",
      "draw                draw                11946878535639589979\n",
      "seemed              seem                15203660437495798636\n",
      "cut                 cut                 757346452858091906\n",
      "housemaid           housemaid           10673792507044848443\n",
      "used                use                 6873750497785110593\n",
      "talk                talk                13939146775466599234\n",
      "asked               ask                 203487227105936704\n",
      "gave                give                11640825575873464194\n",
      "calculated          calculate           5063059747206881340\n",
      "check               check               13320680580156776400\n",
      "encourage           encourage           18244613377274813947\n",
      "passed              pass                4028211059174100358\n",
      "begged              beg                 12123800483111639037\n",
      "had                 have                14692702688101715474\n",
      "seconded            second              18193336062778529705\n",
      "reminded            remind              4989518822196534566\n",
      "accorded            accord              701735504652304602\n",
      "did                 do                  2158845516055552166\n",
      "showing             show                1916734850589852068\n",
      "sitting             sit                 14192039007865877226\n",
      "written             write               15597474948775060119\n",
      "waiting             wait                6203382976377178934\n",
      "posted              post                6601561424492272668\n",
      "put                 put                 11532405253426108718\n",
      "volunteered         volunteer           4914248020557152598\n",
      "carry               carry               3136549718379081776\n",
      "seen                see                 11925638236994514241\n",
      "seated              seat                13522292925360507503\n",
      "given               give                11640825575873464194\n",
      "kept                keep                9099225972875567996\n",
      "enveloped           envelop             8514231038982744939\n",
      "play                play                8228585124152053988\n",
      "replied             reply               11278273783512279807\n",
      "set                 set                 11268780503345276587\n",
      "walked              walk                1674876016505392235\n",
      "got                 get                 2013399242189103424\n",
      "walked              walk                1674876016505392235\n",
      "enjoy               enjoy               13716726989081948958\n",
      "analyse             analyse             4001921994886326243\n",
      "brooding            brood               7965952615150287671\n",
      "tolled              toll                5754576377250172079\n",
      "passed              pass                4028211059174100358\n",
      "lay                 lie                 4613777942946297274\n",
      "approaching         approach            13730216158190965\n",
      "beaming             beam                10672092598459916577\n",
      "noted               note                5316588462688733335\n",
      "possessing          possess             7792467002158698157\n",
      "lay                 lie                 4613777942946297274\n",
      "stirred             stir                9382755540294664826\n",
      "made                make                9614445426764226664\n",
      "was                 be                  10382539506755952630\n",
      "stripped            strip               3991004962592863907\n",
      "worn                wear                2857148313768404037\n",
      "causewayed          causeway            8369764500702625275\n",
      "were                be                  10382539506755952630\n",
      "browsed             browse              6730751802107412412\n",
      "stirred             stir                9382755540294664826\n",
      "looked              look                16096726548953279178\n",
      "forgotten           forget              3594002739794809904\n",
      "drop                drop                505665066430977685\n",
      "inclined            incline             14958535982354529433\n",
      "reached             reach               16043492340495565256\n",
      "sat                 sit                 14192039007865877226\n",
      "led                 lead                82546335403996757\n",
      "Gathering           gather              5143015564608377618\n",
      "sheltering          shelter             4670739175480902780\n",
      "feel                feel                5741770584995928333\n",
      "froze               freeze              11216980060904606566\n",
      "attested            attest              6773448841683773279\n",
      "covering            cover               17049112108365442227\n",
      "congealed           congeal             704812531068255457\n",
      "overflowed          overflow            6258022236543710050\n",
      "look                look                16096726548953279178\n",
      "rose                rise                1320433295214289814\n",
      "lingered            linger              12508682116338156247\n",
      "went                go                  8004577259940138793\n",
      "sank                sink                10729748669073491459\n",
      "turned              turn                7124218691546400199\n",
      "sat                 sit                 14192039007865877226\n",
      "rising              rise                1320433295214289814\n",
      "looked              look                16096726548953279178\n",
      "lost                lose                13950701771273664180\n",
      "sent                send                6965176418496841198\n",
      "hear                hear                16158783587822825203\n",
      "felt                feel                5741770584995928333\n"
     ]
    }
   ],
   "source": [
    "selection = doc[1000:2000]\n",
    "for token in selection:\n",
    "    if(token.pos_ == 'VERB'):\n",
    "        print(f'{token.text:20}{token.lemma_:20}{token.lemma}')"
   ]
  },
  {
   "cell_type": "markdown",
   "id": "2d3395b0-e3c9-4482-87be-9b27f43a465c",
   "metadata": {},
   "source": [
    "We can match patterns based on lemmas. For example, if we want to take our analysis of Jane Eyre beyond merely eyes, and into seeing in general, we can search for the lemma for \"see\" and print out a concordance for matches on all forms of the verb \"to see\"."
   ]
  },
  {
   "cell_type": "code",
   "execution_count": 35,
   "id": "b847c5f6-e0b2-4081-9ac3-077ff3f41fd4",
   "metadata": {},
   "outputs": [
    {
     "name": "stdout",
     "output_type": "stream",
     "text": [
      "regions full of life I had heard of but never seen—that then I\n",
      "desired more of practical experience\n",
      "------------------\n",
      "solitude of the spot, and allow my mind’s eye to dwell on whatever\n",
      "bright visions rose before it\n",
      "------------------\n",
      "not account for the sounds she made. Sometimes I saw her: she would\n",
      "come out of her room\n",
      "------------------\n",
      "would be a\n",
      "pleasant winter afternoon walk. Having seen Adèle comfortably seated in\n",
      "her little chair by Mrs.\n",
      "------------------\n",
      "causeway. The dog\n",
      "came bounding back, and seeing his master in a predicament, and hearing\n",
      "the\n",
      "------------------\n",
      "I would not be driven\n",
      "quite away till I saw the event. This was finally fortunate; the horse\n",
      "------------------\n",
      "and the moon was waxing bright: I\n",
      "could see him plainly. His figure was enveloped in a riding\n",
      "------------------\n",
      "offering my services unasked. I\n",
      "had hardly ever seen a handsome youth; never in my life spoken to\n",
      "------------------\n",
      "hour, in this\n",
      "solitary lane, till I see you are fit to mount your horse.”\n",
      "\n",
      "\n",
      "------------------\n",
      "Rochester?”\n",
      "\n",
      "“No, I have never seen him.”\n",
      "\n",
      "“He is not resident,\n",
      "------------------\n",
      "You are—” He stopped,\n",
      "ran his eye over my dress, which, as usual, was\n",
      "------------------\n",
      "was mortally afraid of its trampling forefeet\n",
      "\n",
      "“I see,” he said, “the mountain will never\n",
      "------------------\n",
      "the\n",
      "letter into the post-office; I saw it as I walked fast down-hill all\n",
      "\n",
      "------------------\n",
      "\n",
      "Newfoundland dog, might be again apparent: I saw only the hedge and a\n",
      "pollard willow before me\n",
      "------------------\n",
      "down in\n",
      "the direction of the murmur, my eye, traversing the hall-front, caught\n",
      "a\n",
      "------------------\n",
      "the glass door were closed; I\n",
      "could not see into the interior; and both my eyes and spirit\n",
      "------------------\n"
     ]
    }
   ],
   "source": [
    "pattern = [{\"lemma\": \"see\"}]\n",
    "matcher.add(\"SEE\", [pattern])\n",
    "matches = matcher(doc)\n",
    "\n",
    "for match in matches:\n",
    "    match_id, start, end = match\n",
    "    print(doc[start-10:end+10])\n",
    "    print('------------------')"
   ]
  },
  {
   "cell_type": "code",
   "execution_count": 36,
   "id": "5d7ee50b-c288-41ac-91d1-367c46c90a2d",
   "metadata": {},
   "outputs": [
    {
     "name": "stdout",
     "output_type": "stream",
     "text": [
      "; when I went down to the\n",
      "gates and looked through them along the road; or when, while\n",
      "------------------\n",
      "the attic, and\n",
      "having reached the leads, looked out afar over sequestered field and\n",
      "hill, and\n",
      "------------------\n",
      "regions full of life I had heard of but never seen—that then I\n",
      "desired more of practical experience\n",
      "------------------\n",
      "solitude of the spot, and allow my mind’s eye to dwell on whatever\n",
      "bright visions rose before it\n",
      "------------------\n",
      "not account for the sounds she made. Sometimes I saw her: she would\n",
      "come out of her room\n",
      "------------------\n",
      "would be a\n",
      "pleasant winter afternoon walk. Having seen Adèle comfortably seated in\n",
      "her little chair by Mrs.\n",
      "------------------\n",
      "birds, which stirred\n",
      "occasionally in the hedge, looked like single russet leaves that had\n",
      "forgotten to drop\n",
      "------------------\n",
      "some days since. From my seat I could\n",
      "look down on Thornfield: the grey and battlemented hall was\n",
      "------------------\n",
      "as a cloud, but\n",
      "brightening momentarily, she looked over Hay, which, half lost in\n",
      "trees\n",
      "------------------\n",
      "me, however, quietly enough; not staying to look up, with strange\n",
      "pretercanine eyes, in my\n",
      "------------------\n",
      "causeway. The dog\n",
      "came bounding back, and seeing his master in a predicament, and hearing\n",
      "the\n",
      "------------------\n",
      "I would not be driven\n",
      "quite away till I saw the event. This was finally fortunate; the horse\n",
      "------------------\n",
      "and the moon was waxing bright: I\n",
      "could see him plainly. His figure was enveloped in a riding\n",
      "------------------\n",
      "a heavy brow; his eyes and\n",
      "gathered eyebrows looked ireful and thwarted just now; he was past\n",
      "\n",
      "------------------\n",
      "offering my services unasked. I\n",
      "had hardly ever seen a handsome youth; never in my life spoken to\n",
      "------------------\n",
      "hour, in this\n",
      "solitary lane, till I see you are fit to mount your horse.”\n",
      "\n",
      "\n",
      "------------------\n",
      "are fit to mount your horse.”\n",
      "\n",
      "He looked at me when I said this; he had hardly\n",
      "------------------\n",
      "Rochester?”\n",
      "\n",
      "“No, I have never seen him.”\n",
      "\n",
      "“He is not resident,\n",
      "------------------\n",
      "You are—” He stopped,\n",
      "ran his eye over my dress, which, as usual, was\n",
      "------------------\n",
      "was mortally afraid of its trampling forefeet\n",
      "\n",
      "“I see,” he said, “the mountain will never\n",
      "------------------\n",
      "the\n",
      "letter into the post-office; I saw it as I walked fast down-hill all\n",
      "\n",
      "------------------\n",
      "came to the stile, I stopped a minute, looked\n",
      "round and listened, with an idea that a\n",
      "------------------\n",
      "\n",
      "Newfoundland dog, might be again apparent: I saw only the hedge and a\n",
      "pollard willow before me\n",
      "------------------\n",
      "round Thornfield, a mile distant; and when I glanced down in\n",
      "the direction of the murmur, my\n",
      "------------------\n",
      "down in\n",
      "the direction of the murmur, my eye, traversing the hall-front, caught\n",
      "a\n",
      "------------------\n",
      "the glass door were closed; I\n",
      "could not see into the interior; and both my eyes and spirit\n",
      "------------------\n",
      "it in solemn march;\n",
      "her orb seeming to look up as she left the hill-tops, from\n",
      "------------------\n",
      "and showed a genial fire in the grate,\n",
      "glancing on marble hearth and brass fire-irons, and\n",
      "------------------\n",
      "alone, sitting upright on the\n",
      "rug, and gazing with gravity at the blaze, I beheld a great\n",
      "------------------\n",
      "and he wagged his great\n",
      "tail; but he looked an eerie creature to be alone with, and I\n",
      "------------------\n"
     ]
    }
   ],
   "source": [
    "pattern2 = [{\"lemma\": \"look\"}]\n",
    "pattern3 = [{\"lemma\": \"glance\"}]\n",
    "pattern4 = [{\"lemma\": \"gaze\"}]\n",
    "\n",
    "matcher.add(\"LOOKING\", [pattern2, pattern3, pattern4])\n",
    "matches = matcher(doc)\n",
    "\n",
    "for match in matches:\n",
    "    match_id, start, end = match\n",
    "    print(doc[start-10:end+10])\n",
    "    print('------------------')"
   ]
  },
  {
   "cell_type": "markdown",
   "id": "0efe73d5-5fef-4037-aff5-dfc621a1c191",
   "metadata": {},
   "source": [
    "We might notice there are sometimes references to hearing at the same time as seeing. This could be an interesting line of study. We could approach it like this. First, let's remove our old patterns from our matcher."
   ]
  },
  {
   "cell_type": "code",
   "execution_count": 37,
   "id": "2777e49a-732c-41b5-8c9b-6d071cfd603e",
   "metadata": {},
   "outputs": [],
   "source": [
    "matcher.remove(\"SEE\")\n",
    "matcher.remove(\"LOOKING\")"
   ]
  },
  {
   "cell_type": "markdown",
   "id": "6b72fbc9-514d-40fd-8b96-4282588fb8f7",
   "metadata": {},
   "source": [
    "Now let's set up new patterns that are easier to work with in combination."
   ]
  },
  {
   "cell_type": "code",
   "execution_count": 38,
   "id": "95e21e7d-99a4-4c62-aee9-5961056e9eb1",
   "metadata": {},
   "outputs": [],
   "source": [
    "sight_patterns = [[{\"lemma\": \"see\"}], [{\"lemma\": \"look\"}], [{\"lemma\": \"glance\"}], [{\"lemma\": \"gaze\"}], [{\"lemma\": \"eye\"}]]\n",
    "sound_patterns = [[{\"lemma\": \"hear\"}], [{\"lemma\": \"listen\"}], [{\"lemma\": \"murmur\"}], [{\"lemma\": \"sound\"}], [{\"lemma\": \"speak\"}], [{\"lemma\": \"say\"}]]\n",
    "matcher.add(\"SIGHT\", sight_patterns)\n",
    "matcher.add(\"SOUND\", sound_patterns)"
   ]
  },
  {
   "cell_type": "markdown",
   "id": "85148725-2e7c-48c8-9f70-daab66534d93",
   "metadata": {},
   "source": [
    "Now we are going to run the matcher again. We'll create a dictionary to store all the sentences that contain matches for either the sight pattern or the sound pattern. Then we'll go over all our matches, extracting the contents of the  match: the id, the start index, and the end index. We'll get the sentence for the match. We'll use our nlp vocabulary to convert the match id into a string. We'll enter the sentence into our dictionary, and mark the corresponding label True."
   ]
  },
  {
   "cell_type": "code",
   "execution_count": 39,
   "id": "470aa0a7-3791-418c-8b37-4a7631eb87cd",
   "metadata": {},
   "outputs": [],
   "source": [
    "matches = matcher(doc)\n",
    "matching_sentences = {}\n",
    "for match_id, start, end in matches:\n",
    "    sentence = doc[start].sent\n",
    "    label = nlp.vocab.strings[match_id]\n",
    "    if sentence not in matching_sentences:\n",
    "        matching_sentences[sentence] = {\"SIGHT\": False, \"SOUND\": False}\n",
    "    matching_sentences[sentence][label] = True"
   ]
  },
  {
   "cell_type": "code",
   "execution_count": 40,
   "id": "22d4b505-3ec6-4341-b4d0-60c71f8ff086",
   "metadata": {},
   "outputs": [
    {
     "name": "stdout",
     "output_type": "stream",
     "text": [
      "Anybody may blame me who likes, when I add further, that, now and then,\n",
      "when I took a walk by myself in the grounds; when I went down to the\n",
      "gates and looked through them along the road; or when, while Adèle\n",
      "played with her nurse, and Mrs. Fairfax made jellies in the storeroom,\n",
      "I climbed the three staircases, raised the trap-door of the attic, and\n",
      "having reached the leads, looked out afar over sequestered field and\n",
      "hill, and along dim sky-line—that then I longed for a power of vision\n",
      "which might overpass that limit; which might reach the busy world,\n",
      "towns, regions full of life I had heard of but never seen—that then I\n",
      "desired more of practical experience than I possessed; more of\n",
      "intercourse with my kind, of acquaintance with variety of character,\n",
      "than was here within my reach.\n",
      "----------------------\n",
      "On the hill-top above me sat the rising moon; pale yet as a cloud, but\n",
      "brightening momentarily, she looked over Hay, which, half lost in\n",
      "trees, sent up a blue smoke from its few chimneys: it was yet a mile\n",
      "distant, but in the absolute hush I could hear plainly its thin murmurs\n",
      "of life.\n",
      "----------------------\n",
      "The dog\n",
      "came bounding back, and seeing his master in a predicament, and hearing\n",
      "the horse groan, barked till the evening hills echoed the sound, which\n",
      "was deep in proportion to his magnitude.\n",
      "----------------------\n",
      "I\n",
      "had hardly ever seen a handsome youth; never in my life spoken to one.\n",
      "\n",
      "----------------------\n",
      "He looked at me when I said this; he had hardly turned his eyes in my\n",
      "direction before.\n",
      "\n",
      "\n",
      "----------------------\n",
      "I was mortally afraid of its trampling forefeet\n",
      "\n",
      "“I see,” he said, “the mountain will never be brought to Mahomet, so\n",
      "all you can do is to aid Mahomet to go to the mountain; I must beg of\n",
      "you to come here.”\n",
      "\n",
      "\n",
      "----------------------\n",
      "When I came to the stile, I stopped a minute, looked\n",
      "round and listened, with an idea that a horse’s hoofs might ring on the\n",
      "causeway again, and that a rider in a cloak, and a Gytrash-like\n",
      "Newfoundland dog, might be again apparent: I saw only the hedge and a\n",
      "pollard willow before me, rising up still and straight to meet the\n",
      "moonbeams; I heard only the faintest waft of wind roaming fitful among\n",
      "the trees round Thornfield, a mile distant; and when I glanced down in\n",
      "the direction of the murmur, my eye, traversing the hall-front, caught\n",
      "a light kindling in a window: it reminded me that I was late, and I\n",
      "hurried on.\n",
      "\n",
      "\n",
      "----------------------\n"
     ]
    }
   ],
   "source": [
    "for sentence, sense in matching_sentences.items():\n",
    "    if sense[\"SIGHT\"] and sense[\"SOUND\"]:\n",
    "        print(sentence)\n",
    "        print('----------------------')"
   ]
  },
  {
   "cell_type": "markdown",
   "id": "420cf3fd-b5fd-4477-b3e4-2e1eaff75f3a",
   "metadata": {},
   "source": [
    "Now we have all the sentences in chapter 12 of Jane Eyre that contain both sight and sound references."
   ]
  },
  {
   "cell_type": "markdown",
   "id": "60a53ab5-44b1-421d-aaf4-02b718587d2e",
   "metadata": {},
   "source": [
    "## Stop Words\n",
    "\n",
    "SpaCy has a list of stop words, which are the words that appear so frequently that they are considered statistical noise. We can see the list of stop words."
   ]
  },
  {
   "cell_type": "code",
   "execution_count": 41,
   "id": "76334faa-6720-4c17-a9b6-d6c6f81bd71d",
   "metadata": {},
   "outputs": [
    {
     "name": "stdout",
     "output_type": "stream",
     "text": [
      "{'neither', 'amount', 'everything', 'becomes', 'full', 'besides', 'really', 'among', 'whereupon', 'last', 'these', 'where', 'empty', 'such', 'via', 'whenever', 'about', 'hereupon', '‘ve', 'this', 'all', 'few', 'done', 'keep', 'nowhere', 'somehow', 'me', 'another', 'also', 'just', 'they', 'an', 'whence', 'before', 'anyone', 'part', 'of', 'always', 'at', 'across', 'forty', 'even', 'ours', 'down', 'our', 'least', 'off', 'fifty', 'many', 'will', 'which', 'thereafter', 'whereafter', 'else', 'unless', 'used', 'eight', 'up', 'due', 'or', 'same', 'am', 'her', 'whom', 'enough', 'within', 'n’t', 'namely', 'without', 'although', '‘d', 'above', 'give', 'say', 'however', 'who', 'nevertheless', 'nobody', 'either', 'seem', 'upon', 'why', 'anywhere', 'beforehand', 'now', 'with', \"'ll\", 'doing', 'yet', 'n‘t', 'sometimes', '‘ll', 'a', 'behind', 'between', 'eleven', 'bottom', 'see', 'any', 'back', 'became', 'and', 'seemed', 'once', 'beyond', 'should', 'myself', 'somewhere', 'though', 'four', '‘s', 'none', 'those', 'until', \"'m\", '’ve', 'indeed', 'onto', 'wherever', 'alone', 'hence', 'thereupon', 'mine', '’s', 'whose', 'after', 'yours', 'to', 'take', 'ten', 'your', 'here', 'nine', 'latter', 'perhaps', 'been', 'whatever', 'what', 'show', 'themselves', 'anything', 'them', 'than', 'often', 'ourselves', 'were', 'whereas', 'each', 'third', 'thence', 'put', 'one', 'former', 'call', 'may', 'whole', \"'d\", 'must', 'you', 'has', 'in', 'nothing', 'something', 'further', 'does', 'some', 'if', 'using', 'therein', 'someone', 'its', 'can', 'no', 'beside', '‘re', 'never', 'nor', 'seeming', 'how', 'would', 'make', 'she', 'under', 'six', 'whereby', 'serious', 'meanwhile', 'hereby', 'become', 'us', 'his', 'my', 'herein', 'five', 'himself', 'please', 'do', 'quite', 'wherein', 'go', 'that', 'could', 'being', 'rather', 'only', 'mostly', 'still', 'is', 'both', 'it', 'everywhere', 'i', 'most', '’ll', 'thus', 'twenty', 'have', 'was', 'everyone', 'along', 'top', 'therefore', 'almost', 'next', 'are', 'had', 'several', 'be', 'name', 'first', 'own', 'so', 'around', 'sometime', 'while', 'during', 'yourselves', 'ever', 'too', 'regarding', 'seems', 'two', 'twelve', 'made', '’m', 'him', 'then', \"'re\", 'towards', 'because', 'again', 'yourself', '‘m', 'we', 'over', 'hers', 'since', 'every', 'by', \"'ve\", 'itself', 'for', 'as', 'hundred', 'hereafter', 'whether', 'very', 'the', 'did', 'when', 're', 'he', 'together', 'there', 'whoever', 'anyhow', 'herself', 'side', 'get', 'ca', 'elsewhere', 'amongst', 'well', 'not', 'except', 'front', 'cannot', 'thereby', 'but', 'sixty', 'otherwise', 'move', 'from', 'afterwards', \"'s\", 'less', 'through', 'already', '’d', 'on', \"n't\", 'toward', 'formerly', 'into', 'others', 'latterly', 'more', 'throughout', 'against', 'below', 'per', 'noone', 'other', 'becoming', 'thru', 'moreover', '’re', 'much', 'three', 'out', 'whither', 'fifteen', 'might', 'anyway', 'their', 'various'}\n"
     ]
    }
   ],
   "source": [
    "print(nlp.Defaults.stop_words)"
   ]
  },
  {
   "cell_type": "markdown",
   "id": "5713c7b1-beff-486f-938f-36eed111e4ed",
   "metadata": {},
   "source": [
    "We can use this, for example, when calculating word frequency. Notice tokens like \"'ve\" and \"'ll\" are in the stop word list, so it's not so much words as tokens that are included. For a frequency analysis, we may want further refine our tokens, and use lemmas instead of raw tokens. A common way to count lemma or word frequency is to use the basic Python `Counter` method."
   ]
  },
  {
   "cell_type": "code",
   "execution_count": 42,
   "id": "5e1cb5ee-acbd-4591-a666-ecb5ee0ca5da",
   "metadata": {},
   "outputs": [
    {
     "name": "stdout",
     "output_type": "stream",
     "text": [
      "[('horse', 13), ('come', 13), ('Mrs.', 11), ('little', 9), ('look', 9), ('see', 9), ('walk', 8), ('go', 8), ('hill', 8), ('like', 7), ('life', 7), ('hear', 7), ('eye', 7), ('sit', 7), ('dark', 7), ('dog', 7), ('turn', 6), ('think', 6), ('long', 6), ('help', 6)]\n"
     ]
    }
   ],
   "source": [
    "from collections import Counter\n",
    "\n",
    "cleaned_chapter = chapter12.replace(\"\\n\", \"\")\n",
    "\n",
    "clean_doc = nlp(cleaned_chapter)\n",
    "\n",
    "freqs = Counter(token.lemma_ for token in clean_doc if not token.is_stop and not token.is_punct and not token.ent_type_)\n",
    "most_common = freqs.most_common(20)\n",
    "print(most_common)"
   ]
  },
  {
   "cell_type": "markdown",
   "id": "fb124a03-3fee-47e5-9a6a-070362738f9d",
   "metadata": {},
   "source": [
    "Here, we first clean out all the newline characters, then we count lemmas only if they are not stop words, not punctuation, and not named entities. Given our line of analysis, it is interesting to see that \"look\", \"see\", and \"hear\", and \"eye\" are in our top twenty lemmas in the chapter."
   ]
  },
  {
   "cell_type": "markdown",
   "id": "8e68f7cc-e858-48b1-8540-a80ae8546b68",
   "metadata": {},
   "source": [
    "We could do this for another chapter and then compare."
   ]
  },
  {
   "cell_type": "code",
   "execution_count": 43,
   "id": "557a6700-7a73-44ab-8c8a-b127937fabb6",
   "metadata": {},
   "outputs": [
    {
     "name": "stdout",
     "output_type": "stream",
     "text": [
      "[('sir', 29), ('shall', 28), ('say', 25), ('like', 23), ('love', 20), ('Mr.', 19), ('look', 18), ('think', 16), ('good', 16), ('come', 15), ('little', 14), ('eye', 13), ('tell', 12), ('time', 11), ('marry', 11), ('ask', 11), ('Mrs.', 9), ('go', 9), ('wish', 9), ('see', 9)]\n"
     ]
    }
   ],
   "source": [
    "chapter24 = extract_chapter(full_text, \"XXIV\")\n",
    "\n",
    "cleaned_chapter24 = chapter24.replace(\"\\n\", \"\")\n",
    "\n",
    "clean_doc = nlp(cleaned_chapter24)\n",
    "\n",
    "freqs_24 = Counter(token.lemma_ for token in clean_doc if not token.is_stop and not token.is_punct and not token.ent_type_)\n",
    "most_common = freqs_24.most_common(20)\n",
    "print(most_common)"
   ]
  },
  {
   "cell_type": "markdown",
   "id": "db5c2621-5226-4c4c-9459-de44d559e50c",
   "metadata": {},
   "source": [
    "To find commonalities, we can convert them to dictionaries, then use the `and` operator to find the keys common to both, given that the words are the keys in the dictionary."
   ]
  },
  {
   "cell_type": "code",
   "execution_count": 44,
   "id": "8b2d798b-6599-4320-8f0e-820e14a63f05",
   "metadata": {},
   "outputs": [],
   "source": [
    "dict1 = dict(freqs.most_common(20))\n",
    "dict2 = dict(freqs_24.most_common(20))\n",
    "commonalities = set(dict1.keys()) & set(dict2.keys())"
   ]
  },
  {
   "cell_type": "code",
   "execution_count": 45,
   "id": "15df1884-34f2-4c0e-ba7f-0cb25c7a16ca",
   "metadata": {},
   "outputs": [
    {
     "data": {
      "text/plain": [
       "{'Mrs.', 'come', 'eye', 'go', 'like', 'little', 'look', 'see', 'think'}"
      ]
     },
     "execution_count": 45,
     "metadata": {},
     "output_type": "execute_result"
    }
   ],
   "source": [
    "commonalities"
   ]
  },
  {
   "cell_type": "code",
   "execution_count": 46,
   "id": "f173586f-f05f-43cd-8502-e2c005c96451",
   "metadata": {},
   "outputs": [],
   "source": [
    "freq_ch_12 = [dict1[word] for word in commonalities]\n",
    "freq_ch_24 = [dict2[word] for word in commonalities]\n",
    "labels = list(commonalities)"
   ]
  },
  {
   "cell_type": "markdown",
   "id": "07aa62b7-aa22-4c2b-8301-300f1798d40b",
   "metadata": {},
   "source": [
    "Now, having extracted the frequencies, we could use the Matplotlib library to visualize the results. If you have not already done so, you may have to go back to your Anaconda Navigator menu, enter the environments tab, search for Matplotlib, and install it to your environment. This visualization code was generated using ChatGPT."
   ]
  },
  {
   "cell_type": "code",
   "execution_count": 47,
   "id": "fbdf333c-f5c7-4b9a-8869-95f6d18d54a0",
   "metadata": {
    "scrolled": true
   },
   "outputs": [
    {
     "data": {
      "image/png": "[encoded data removed]",
      "text/plain": [
       "<Figure size 1000x500 with 1 Axes>"
      ]
     },
     "metadata": {},
     "output_type": "display_data"
    }
   ],
   "source": [
    "import matplotlib.pyplot as plt\n",
    "\n",
    "# Plot the comparison\n",
    "x = range(len(labels))\n",
    "\n",
    "plt.figure(figsize=(10, 5))\n",
    "plt.bar(x, freq_ch_12, width=0.4, label=\"Chapter 12\", align=\"center\")\n",
    "plt.bar([i + 0.4 for i in x], freq_ch_24, width=0.4, label=\"Chapter 24\", align=\"center\")\n",
    "plt.xticks([i + 0.2 for i in x], labels, rotation=45)\n",
    "plt.xlabel(\"Frequently used terms in both chapters\")\n",
    "plt.ylabel(\"Frequency\")\n",
    "plt.legend()\n",
    "plt.title(\"Comparison of Common Words Between Two Chapters\")\n",
    "plt.show()"
   ]
  },
  {
   "cell_type": "markdown",
   "id": "74f96dac-3bf3-4e53-aad8-cef59a27515c",
   "metadata": {},
   "source": [
    "## TF-IDF Measures as a tool for gauging word importance\n",
    "\n",
    "TF-IDF is a measure commonly used in NLP and IR (information retrieval) to measure the importance of a term within a document relative to other documents in a collection. A collection of documents is often referred to as a **corpus**. \n",
    "\n",
    "First, we need to know the full set of words in the entire corpus. Let's continue to work with Jane Eyre as our sample text. Our corpus will be several chapters spread apart over the course of the novel. For convenience, we will assemble the chapters together in a dictionary. If we find the manual typing tedious, this is the sort of task we can assign to a gen AI LLM."
   ]
  },
  {
   "cell_type": "code",
   "execution_count": 58,
   "id": "36c46364-d97b-480f-90c9-86d9e2f06569",
   "metadata": {},
   "outputs": [],
   "source": [
    "chapters = {\n",
    "    \"Chapter 6\": extract_chapter(full_text, \"VI\"),\n",
    "    \"Chapter 12\": extract_chapter(full_text, \"XII\"),\n",
    "    \"Chapter 18\": extract_chapter(full_text, \"XVIII\"),\n",
    "    \"Chapter 24\": extract_chapter(full_text, \"XXIV\"),\n",
    "    \"Chapter 30\": extract_chapter(full_text, \"XXX\"),\n",
    "    \"Chapter 36\": extract_chapter(full_text, \"XXXVI\"),\n",
    "}"
   ]
  },
  {
   "cell_type": "markdown",
   "id": "beabaee7-e3f8-478c-a611-c4879da4b837",
   "metadata": {},
   "source": [
    "We're going to use regular expressions and spaCy to preprocess the texts, eliminating spaces, stop words, punctuation, and named entities. We could include named entities for a different analysis. "
   ]
  },
  {
   "cell_type": "code",
   "execution_count": 59,
   "id": "46dbda58-d9fc-4cee-9aa0-4307217e965f",
   "metadata": {},
   "outputs": [
    {
     "name": "stdout",
     "output_type": "stream",
     "text": [
      "rise dress think happen wonder dream certain reality till see Mr. hear renew word love promise arrange hair look face glass feel long plain hope aspect life colour eye behold fount fruition borrow bea\n"
     ]
    }
   ],
   "source": [
    "def preprocess_text(text):\n",
    "    text = re.sub(r'\\s+', ' ', text.strip())\n",
    "    doc = nlp(text)  # Process text with spaCy\n",
    "    return \" \".join(\n",
    "        token.lemma_  # Use the lemma (base form)\n",
    "        for token in doc\n",
    "        if not token.is_stop  # Remove stop words\n",
    "        and not token.is_punct  # Remove punctuation\n",
    "        and not token.ent_type_  # Remove named entities\n",
    "    )\n",
    "\n",
    "# Process each chapter and store in a new dictionary\n",
    "processed_chapters = {chapter: preprocess_text(text) for chapter, text in chapters.items()}\n",
    "\n",
    "print(processed_chapters[\"Chapter 24\"][:200])"
   ]
  },
  {
   "cell_type": "code",
   "execution_count": 60,
   "id": "7d051739-5272-46d8-aee5-1bd8f429d4ed",
   "metadata": {},
   "outputs": [
    {
     "name": "stdout",
     "output_type": "stream",
     "text": [
      "\n",
      "Top 10 TF-IDF words in Chapter 6:\n",
      "miss: 0.2837\n",
      "lesson: 0.1475\n",
      "dislike: 0.1248\n",
      "class: 0.1248\n",
      "temple: 0.1248\n",
      "girl: 0.1248\n",
      "cruel: 0.1218\n",
      "come: 0.1216\n",
      "feel: 0.1216\n",
      "good: 0.1081\n",
      "\n",
      "Top 10 TF-IDF words in Chapter 12:\n",
      "horse: 0.2433\n",
      "come: 0.1560\n",
      "dog: 0.1441\n",
      "mrs: 0.1350\n",
      "hill: 0.1173\n",
      "walk: 0.1125\n",
      "causeway: 0.1098\n",
      "traveller: 0.1081\n",
      "go: 0.1072\n",
      "look: 0.1072\n",
      "\n",
      "Top 10 TF-IDF words in Chapter 18:\n",
      "mr: 0.2291\n",
      "party: 0.2164\n",
      "say: 0.1848\n",
      "miss: 0.1626\n",
      "look: 0.1404\n",
      "gentleman: 0.1383\n",
      "room: 0.1256\n",
      "think: 0.1182\n",
      "eye: 0.1182\n",
      "see: 0.1109\n",
      "\n",
      "Top 10 TF-IDF words in Chapter 24:\n",
      "sir: 0.3544\n",
      "shall: 0.2013\n",
      "say: 0.1753\n",
      "love: 0.1723\n",
      "like: 0.1688\n",
      "mr: 0.1428\n",
      "look: 0.1298\n",
      "little: 0.1233\n",
      "think: 0.1233\n",
      "mademoiselle: 0.1170\n",
      "\n",
      "Top 10 TF-IDF words in Chapter 30:\n",
      "say: 0.1629\n",
      "know: 0.1612\n",
      "sister: 0.1290\n",
      "father: 0.1270\n",
      "read: 0.1074\n",
      "st: 0.1049\n",
      "ambitious: 0.1049\n",
      "mr: 0.1047\n",
      "like: 0.1047\n",
      "poor: 0.0933\n",
      "\n",
      "Top 10 TF-IDF words in Chapter 36:\n",
      "am: 0.2581\n",
      "ma: 0.2581\n",
      "know: 0.1843\n",
      "mr: 0.1697\n",
      "hear: 0.1597\n",
      "dead: 0.1475\n",
      "stone: 0.1401\n",
      "coach: 0.1124\n",
      "like: 0.1098\n",
      "see: 0.1098\n"
     ]
    }
   ],
   "source": [
    "import numpy as np\n",
    "from sklearn.feature_extraction.text import TfidfVectorizer\n",
    "\n",
    "# Apply TF-IDF to all chapters as a corpus\n",
    "vectorizer = TfidfVectorizer()\n",
    "tfidf_matrix = vectorizer.fit_transform(processed_chapters.values())\n",
    "\n",
    "# Convert to readable format\n",
    "feature_names = vectorizer.get_feature_names_out()\n",
    "tfidf_array = tfidf_matrix.toarray()\n",
    "\n",
    "# Function to get top N words for a chapter\n",
    "def top_tfidf_words(tfidf_scores, feature_names, top_n=10):\n",
    "    sorted_indices = np.argsort(tfidf_scores)[::-1][:top_n]\n",
    "    return [(feature_names[i], tfidf_scores[i]) for i in sorted_indices]\n",
    "\n",
    "# Get the most important words for each chapter\n",
    "chapter_names = list(processed_chapters.keys())\n",
    "\n",
    "for i, chapter_name in enumerate(chapter_names):\n",
    "    top_words = top_tfidf_words(tfidf_array[i], feature_names, top_n=10)\n",
    "\n",
    "    # Print results\n",
    "    print(f\"\\nTop 10 TF-IDF words in {chapter_name}:\")\n",
    "    for word, score in top_words:\n",
    "        print(f\"{word}: {score:.4f}\")\n"
   ]
  },
  {
   "cell_type": "markdown",
   "id": "411969a5-e4ea-4892-bd7b-810ac8dc2555",
   "metadata": {},
   "source": [
    "We can see that, in light of our analytic interests, the results are quite interesting. \"Look\", \"eye\", and \"see\" are all distinctive terms in chapter 18, while \"cruel\" and \"dislike\" are characteristic of chapter 6. \n",
    "\n",
    "Here is one possible visualization for the data, using the Seaborn library to generate a heatmap. You may have to return to your Navigator menu, enter the environments tab, and add the Seaborn library for data visualization. I used ChatGPT to generate this visualization code."
   ]
  },
  {
   "cell_type": "code",
   "execution_count": 67,
   "id": "275d9084-c289-450e-abbe-e248a59ff8dc",
   "metadata": {},
   "outputs": [
    {
     "data": {
      "image/png": "[encoded data removed]",
      "text/plain": [
       "<Figure size 1200x800 with 2 Axes>"
      ]
     },
     "metadata": {},
     "output_type": "display_data"
    }
   ],
   "source": [
    "import seaborn as sns\n",
    "import pandas as pd\n",
    "import matplotlib.pyplot as plt\n",
    "\n",
    "# Convert TF-IDF array to a DataFrame\n",
    "df = pd.DataFrame(tfidf_array, index=processed_chapters.keys(), columns=feature_names)\n",
    "\n",
    "# Step 1: Collect the top 10 words from each chapter\n",
    "top_words_per_chapter = {}  # Store top words for each chapter\n",
    "unique_top_words = set()  # Collect all unique words\n",
    "\n",
    "for i, chapter in enumerate(processed_chapters.keys()):\n",
    "    top_words = top_tfidf_words(tfidf_array[i], feature_names, top_n=10)\n",
    "    top_words_per_chapter[chapter] = [word for word, _ in top_words]\n",
    "    unique_top_words.update(top_words_per_chapter[chapter])  # Add to the unique set\n",
    "\n",
    "# Step 2: Create a new DataFrame containing only those words\n",
    "df_selected = df[list(unique_top_words)]  # Keep only relevant words\n",
    "\n",
    "# Step 3: Plot the heatmap\n",
    "plt.figure(figsize=(12, 8))\n",
    "sns.heatmap(df_selected, cmap=\"Spectral_r\", linewidths=0.5, cbar=True, annot=False)\n",
    "\n",
    "# Rotate words 90 degrees\n",
    "plt.xticks(rotation=90)\n",
    "\n",
    "# Labels and title\n",
    "plt.xlabel(\"Words\")\n",
    "plt.ylabel(\"Chapters\")\n",
    "plt.title(\"TF-IDF Heatmap of Unique Top Words Across Chapters\")\n",
    "plt.show()"
   ]
  },
  {
   "cell_type": "markdown",
   "id": "286a6d35-3c97-4f98-9236-61221a6b2cce",
   "metadata": {},
   "source": [
    "Let's break down what we just did and how TF-IDF works. To illustrate the process, we'll use a simplified corpus."
   ]
  },
  {
   "cell_type": "code",
   "execution_count": 70,
   "id": "a8b103b7-44ae-4e7a-8c27-036861a8587f",
   "metadata": {},
   "outputs": [
    {
     "data": {
      "text/plain": [
       "['The promise of a smooth career, which my first calm introduction to Thornfield Hall seemed to pledge, was not belied on a longer acquaintance with the place and its inmates.',\n",
       " 'Mrs. Fairfax turned out to be what she appeared, a placid-tempered, kind-natured woman, of competent education and average intelligence.',\n",
       " 'My pupil was a lively child, who had been spoilt and indulged, and therefore was sometimes wayward; but as she was committed entirely to my care, and no injudicious interference from any quarter ever thwarted my plans for her improvement, she soon forgot her little freaks, and became obedient and teachable.']"
      ]
     },
     "execution_count": 70,
     "metadata": {},
     "output_type": "execute_result"
    }
   ],
   "source": [
    "doc18 = nlp(chapter18)\n",
    "corpus = [sent.text.replace('\\n', \" \").strip() for sent in list(doc.sents)[:3]]\n",
    "corpus"
   ]
  },
  {
   "cell_type": "markdown",
   "id": "f71c49ba-0cc4-45eb-998c-bf0b3f8e859a",
   "metadata": {},
   "source": [
    "Let's create a set of all the unique words in the corpus. In Python, the **set** data structure enforces value uniqueness. "
   ]
  },
  {
   "cell_type": "code",
   "execution_count": 72,
   "id": "5fb004db-9d3c-411a-883d-0af4cbf0f81a",
   "metadata": {},
   "outputs": [
    {
     "name": "stdout",
     "output_type": "stream",
     "text": [
      "There are 79 words: {'not', 'placid-tempered,', 'career,', 'of', 'pledge,', 'place', 'appeared,', 'little', 'acquaintance', 'woman,', 'but', 'freaks,', 'pupil', 'ever', 'smooth', 'with', 'education', 'from', 'spoilt', 'soon', 'introduction', 'turned', 'longer', 'intelligence.', 'care,', 'My', 'which', 'committed', 'Thornfield', 'competent', 'Fairfax', 'on', 'Mrs.', 'lively', 'improvement,', 'Hall', 'its', 'belied', 'sometimes', 'no', 'The', 'child,', 'was', 'interference', 'a', 'to', 'her', 'inmates.', 'average', 'for', 'as', 'any', 'thwarted', 'teachable.', 'she', 'forgot', 'the', 'entirely', 'kind-natured', 'indulged,', 'out', 'quarter', 'obedient', 'therefore', 'became', 'and', 'had', 'seemed', 'calm', 'promise', 'injudicious', 'been', 'plans', 'be', 'what', 'first', 'my', 'who', 'wayward;'}\n"
     ]
    }
   ],
   "source": [
    "all_words = set()\n",
    "\n",
    "for text in corpus:\n",
    "    words = text.split(' ')\n",
    "    all_words = all_words.union(set(words))\n",
    "\n",
    "\n",
    "print(f'There are {len(all_words)} words: {all_words}')"
   ]
  },
  {
   "cell_type": "markdown",
   "id": "93414d76-8a87-46cd-925f-6536112c8f13",
   "metadata": {},
   "source": [
    "Note that in this simple approach, we are not removing stop words.\n",
    "\n",
    "The first step in calculating TF-IDF values is to calculate the term frequency. The term frequency is the number of times a term appears in a document divided by the total number of terms in the document."
   ]
  },
  {
   "cell_type": "code",
   "execution_count": 73,
   "id": "8199a13d-c7ee-4ca9-9b25-f438e3038d17",
   "metadata": {},
   "outputs": [
    {
     "data": {
      "text/html": [
       "<div>\n",
       "<style scoped>\n",
       "    .dataframe tbody tr th:only-of-type {\n",
       "        vertical-align: middle;\n",
       "    }\n",
       "\n",
       "    .dataframe tbody tr th {\n",
       "        vertical-align: top;\n",
       "    }\n",
       "\n",
       "    .dataframe thead th {\n",
       "        text-align: right;\n",
       "    }\n",
       "</style>\n",
       "<table border=\"1\" class=\"dataframe\">\n",
       "  <thead>\n",
       "    <tr style=\"text-align: right;\">\n",
       "      <th></th>\n",
       "      <th>not</th>\n",
       "      <th>placid-tempered,</th>\n",
       "      <th>career,</th>\n",
       "      <th>of</th>\n",
       "      <th>pledge,</th>\n",
       "      <th>place</th>\n",
       "      <th>appeared,</th>\n",
       "      <th>little</th>\n",
       "      <th>acquaintance</th>\n",
       "      <th>woman,</th>\n",
       "      <th>...</th>\n",
       "      <th>promise</th>\n",
       "      <th>injudicious</th>\n",
       "      <th>been</th>\n",
       "      <th>plans</th>\n",
       "      <th>be</th>\n",
       "      <th>what</th>\n",
       "      <th>first</th>\n",
       "      <th>my</th>\n",
       "      <th>who</th>\n",
       "      <th>wayward;</th>\n",
       "    </tr>\n",
       "  </thead>\n",
       "  <tbody>\n",
       "    <tr>\n",
       "      <th>0</th>\n",
       "      <td>0.033333</td>\n",
       "      <td>0.000000</td>\n",
       "      <td>0.033333</td>\n",
       "      <td>0.033333</td>\n",
       "      <td>0.033333</td>\n",
       "      <td>0.033333</td>\n",
       "      <td>0.000000</td>\n",
       "      <td>0.000000</td>\n",
       "      <td>0.033333</td>\n",
       "      <td>0.000000</td>\n",
       "      <td>...</td>\n",
       "      <td>0.033333</td>\n",
       "      <td>0.000000</td>\n",
       "      <td>0.000000</td>\n",
       "      <td>0.000000</td>\n",
       "      <td>0.000000</td>\n",
       "      <td>0.000000</td>\n",
       "      <td>0.033333</td>\n",
       "      <td>0.033333</td>\n",
       "      <td>0.000000</td>\n",
       "      <td>0.000000</td>\n",
       "    </tr>\n",
       "    <tr>\n",
       "      <th>1</th>\n",
       "      <td>0.000000</td>\n",
       "      <td>0.052632</td>\n",
       "      <td>0.000000</td>\n",
       "      <td>0.052632</td>\n",
       "      <td>0.000000</td>\n",
       "      <td>0.000000</td>\n",
       "      <td>0.052632</td>\n",
       "      <td>0.000000</td>\n",
       "      <td>0.000000</td>\n",
       "      <td>0.052632</td>\n",
       "      <td>...</td>\n",
       "      <td>0.000000</td>\n",
       "      <td>0.000000</td>\n",
       "      <td>0.000000</td>\n",
       "      <td>0.000000</td>\n",
       "      <td>0.052632</td>\n",
       "      <td>0.052632</td>\n",
       "      <td>0.000000</td>\n",
       "      <td>0.000000</td>\n",
       "      <td>0.000000</td>\n",
       "      <td>0.000000</td>\n",
       "    </tr>\n",
       "    <tr>\n",
       "      <th>2</th>\n",
       "      <td>0.000000</td>\n",
       "      <td>0.000000</td>\n",
       "      <td>0.000000</td>\n",
       "      <td>0.000000</td>\n",
       "      <td>0.000000</td>\n",
       "      <td>0.000000</td>\n",
       "      <td>0.000000</td>\n",
       "      <td>0.019608</td>\n",
       "      <td>0.000000</td>\n",
       "      <td>0.000000</td>\n",
       "      <td>...</td>\n",
       "      <td>0.000000</td>\n",
       "      <td>0.019608</td>\n",
       "      <td>0.019608</td>\n",
       "      <td>0.019608</td>\n",
       "      <td>0.000000</td>\n",
       "      <td>0.000000</td>\n",
       "      <td>0.000000</td>\n",
       "      <td>0.039216</td>\n",
       "      <td>0.019608</td>\n",
       "      <td>0.019608</td>\n",
       "    </tr>\n",
       "  </tbody>\n",
       "</table>\n",
       "<p>3 rows × 79 columns</p>\n",
       "</div>"
      ],
      "text/plain": [
       "        not  placid-tempered,   career,        of   pledge,     place  \\\n",
       "0  0.033333          0.000000  0.033333  0.033333  0.033333  0.033333   \n",
       "1  0.000000          0.052632  0.000000  0.052632  0.000000  0.000000   \n",
       "2  0.000000          0.000000  0.000000  0.000000  0.000000  0.000000   \n",
       "\n",
       "   appeared,    little  acquaintance    woman,  ...   promise  injudicious  \\\n",
       "0   0.000000  0.000000      0.033333  0.000000  ...  0.033333     0.000000   \n",
       "1   0.052632  0.000000      0.000000  0.052632  ...  0.000000     0.000000   \n",
       "2   0.000000  0.019608      0.000000  0.000000  ...  0.000000     0.019608   \n",
       "\n",
       "       been     plans        be      what     first        my       who  \\\n",
       "0  0.000000  0.000000  0.000000  0.000000  0.033333  0.033333  0.000000   \n",
       "1  0.000000  0.000000  0.052632  0.052632  0.000000  0.000000  0.000000   \n",
       "2  0.019608  0.019608  0.000000  0.000000  0.000000  0.039216  0.019608   \n",
       "\n",
       "   wayward;  \n",
       "0  0.000000  \n",
       "1  0.000000  \n",
       "2  0.019608  \n",
       "\n",
       "[3 rows x 79 columns]"
      ]
     },
     "execution_count": 73,
     "metadata": {},
     "output_type": "execute_result"
    }
   ],
   "source": [
    "num_docs = len(corpus)\n",
    "num_terms = len(all_words)\n",
    "\n",
    "tf_df = pd.DataFrame(np.zeros((num_docs, num_terms)), columns=list(all_words))\n",
    "\n",
    "for i in range(num_docs):\n",
    "    words = corpus[i].split(' ')\n",
    "    for w in words:\n",
    "        tf_df.loc[i, w] += 1 / len(words)\n",
    "\n",
    "tf_df"
   ]
  },
  {
   "cell_type": "markdown",
   "id": "41eb8459-3ec8-4890-8a52-af146af10d47",
   "metadata": {},
   "source": [
    "Here, we create a pandas data frame. We start it full of zeros (using `np.zeros`). We then go through the documents one at a time. For each document, we create a list of words. We then go through the list of words, calculate the term frequency, and insert the term frequency into the data frame at the appropriate cell. Each line, representing a document, contains an entry for every single word in the corpus. The result is a sparse vector, where a vector is sequence of numerical values arranged in a specific order, and sparsity means many values are zero or empty. "
   ]
  },
  {
   "cell_type": "markdown",
   "id": "20a44131-d777-4ead-9095-787c1436db35",
   "metadata": {},
   "source": [
    "Next, we need to compute inverse document frequency. Inverse document frequency represents the proportion of documents in a corpus that contain a certain term. Words that are unique to just a few documents in a corpus receive higher importance. This way, when term frequency is multiplied by inverse document frequency, words that are frequent in a document but are also frequent in many other documents have their importance reduced because they are just noise, common everywhere. Words that are more specific to just a few documents receive higher importance.\n",
    "\n",
    "A simple way of calculating IDF is as log(number of documents / number of documents that contain the term). There are several more complex [formulas](https://en.wikipedia.org/wiki/Tf%E2%80%93idf#Inverse_document_frequency) that are used in making this calculation. The higher the proportion of documents to the number of documents that contain the term, the higher the IDF score. When we multiply IDF by TF, this will magnify the importance of term frequency, whereas if the term appears in many documents, the low IDF will minimize the importance of term frequency."
   ]
  },
  {
   "cell_type": "code",
   "execution_count": 74,
   "id": "7c1624e8-a9e0-4efb-a169-7716ff012ffa",
   "metadata": {},
   "outputs": [
    {
     "name": "stdout",
     "output_type": "stream",
     "text": [
      "IDF of: \n",
      "not: 0.47712125471966244\n",
      "placid-tempered: 0.47712125471966244\n",
      "career,: 0.47712125471966244\n",
      "of: 0.17609125905568124\n",
      "pledge,: 0.47712125471966244\n",
      "place: 0.47712125471966244\n",
      "appeared,: 0.47712125471966244\n",
      "little: 0.47712125471966244\n",
      "acquaintance: 0.47712125471966244\n",
      "woman,: 0.47712125471966244\n",
      "but: 0.47712125471966244\n",
      "freaks,: 0.47712125471966244\n",
      "pupil: 0.47712125471966244\n",
      "ever: 0.47712125471966244\n",
      "smooth: 0.47712125471966244\n",
      "with: 0.47712125471966244\n",
      "education: 0.47712125471966244\n",
      "from: 0.47712125471966244\n",
      "spoilt: 0.47712125471966244\n",
      "soon: 0.47712125471966244\n",
      "introduction: 0.47712125471966244\n",
      "turned: 0.47712125471966244\n",
      "longer: 0.47712125471966244\n",
      "intelligence.: 0.47712125471966244\n",
      "care,: 0.47712125471966244\n",
      "My: 0.47712125471966244\n",
      "which: 0.47712125471966244\n",
      "committed: 0.47712125471966244\n",
      "Thornfield: 0.47712125471966244\n",
      "competent: 0.47712125471966244\n",
      "Fairfax: 0.47712125471966244\n",
      "on: 0.47712125471966244\n",
      "Mrs.: 0.47712125471966244\n",
      "lively: 0.47712125471966244\n",
      "improvement,: 0.47712125471966244\n",
      "Hall: 0.47712125471966244\n",
      "its: 0.47712125471966244\n",
      "belied: 0.47712125471966244\n",
      "sometimes: 0.47712125471966244\n",
      "no: 0.47712125471966244\n",
      "The: 0.47712125471966244\n",
      "child,: 0.47712125471966244\n",
      "was: 0.17609125905568124\n",
      "interference: 0.47712125471966244\n",
      "a:        0.0\n",
      "to:        0.0\n",
      "her: 0.47712125471966244\n",
      "inmates.: 0.47712125471966244\n",
      "average: 0.47712125471966244\n",
      "for: 0.47712125471966244\n",
      "as: 0.47712125471966244\n",
      "any: 0.47712125471966244\n",
      "thwarted: 0.47712125471966244\n",
      "teachable.: 0.47712125471966244\n",
      "she: 0.17609125905568124\n",
      "forgot: 0.47712125471966244\n",
      "the: 0.47712125471966244\n",
      "entirely: 0.47712125471966244\n",
      "kind-natured: 0.47712125471966244\n",
      "indulged,: 0.47712125471966244\n",
      "out: 0.47712125471966244\n",
      "quarter: 0.47712125471966244\n",
      "obedient: 0.47712125471966244\n",
      "therefore: 0.47712125471966244\n",
      "became: 0.47712125471966244\n",
      "and:        0.0\n",
      "had: 0.47712125471966244\n",
      "seemed: 0.47712125471966244\n",
      "calm: 0.47712125471966244\n",
      "promise: 0.47712125471966244\n",
      "injudicious: 0.47712125471966244\n",
      "been: 0.47712125471966244\n",
      "plans: 0.47712125471966244\n",
      "be: 0.47712125471966244\n",
      "what: 0.47712125471966244\n",
      "first: 0.47712125471966244\n",
      "my: 0.17609125905568124\n",
      "who: 0.47712125471966244\n",
      "wayward;: 0.47712125471966244\n"
     ]
    }
   ],
   "source": [
    "print(\"IDF of: \")\n",
    "\n",
    "idf = {}\n",
    "\n",
    "for w in all_words:\n",
    "    k = 0 #num docs in corpus that contain word \n",
    "    for i in range(num_docs):\n",
    "        if w in corpus[i].split():\n",
    "            k+=1\n",
    "    idf[w] = np.log10(num_docs/k)\n",
    "    print(f'{w:.15}: {idf[w]:>10}')"
   ]
  },
  {
   "cell_type": "markdown",
   "id": "48f3c218-7db3-4d1c-852c-4570ccfd3f30",
   "metadata": {},
   "source": [
    "Now we can calculate the TF-IDF."
   ]
  },
  {
   "cell_type": "code",
   "execution_count": 75,
   "id": "499cb93d-f4a1-4ad8-bcec-e02a22260b5c",
   "metadata": {},
   "outputs": [
    {
     "data": {
      "text/html": [
       "<div>\n",
       "<style scoped>\n",
       "    .dataframe tbody tr th:only-of-type {\n",
       "        vertical-align: middle;\n",
       "    }\n",
       "\n",
       "    .dataframe tbody tr th {\n",
       "        vertical-align: top;\n",
       "    }\n",
       "\n",
       "    .dataframe thead th {\n",
       "        text-align: right;\n",
       "    }\n",
       "</style>\n",
       "<table border=\"1\" class=\"dataframe\">\n",
       "  <thead>\n",
       "    <tr style=\"text-align: right;\">\n",
       "      <th></th>\n",
       "      <th>not</th>\n",
       "      <th>placid-tempered,</th>\n",
       "      <th>career,</th>\n",
       "      <th>of</th>\n",
       "      <th>pledge,</th>\n",
       "      <th>place</th>\n",
       "      <th>appeared,</th>\n",
       "      <th>little</th>\n",
       "      <th>acquaintance</th>\n",
       "      <th>woman,</th>\n",
       "      <th>...</th>\n",
       "      <th>promise</th>\n",
       "      <th>injudicious</th>\n",
       "      <th>been</th>\n",
       "      <th>plans</th>\n",
       "      <th>be</th>\n",
       "      <th>what</th>\n",
       "      <th>first</th>\n",
       "      <th>my</th>\n",
       "      <th>who</th>\n",
       "      <th>wayward;</th>\n",
       "    </tr>\n",
       "  </thead>\n",
       "  <tbody>\n",
       "    <tr>\n",
       "      <th>0</th>\n",
       "      <td>0.015904</td>\n",
       "      <td>0.000000</td>\n",
       "      <td>0.015904</td>\n",
       "      <td>0.005870</td>\n",
       "      <td>0.015904</td>\n",
       "      <td>0.015904</td>\n",
       "      <td>0.000000</td>\n",
       "      <td>0.000000</td>\n",
       "      <td>0.015904</td>\n",
       "      <td>0.000000</td>\n",
       "      <td>...</td>\n",
       "      <td>0.015904</td>\n",
       "      <td>0.000000</td>\n",
       "      <td>0.000000</td>\n",
       "      <td>0.000000</td>\n",
       "      <td>0.000000</td>\n",
       "      <td>0.000000</td>\n",
       "      <td>0.015904</td>\n",
       "      <td>0.005870</td>\n",
       "      <td>0.000000</td>\n",
       "      <td>0.000000</td>\n",
       "    </tr>\n",
       "    <tr>\n",
       "      <th>1</th>\n",
       "      <td>0.000000</td>\n",
       "      <td>0.025112</td>\n",
       "      <td>0.000000</td>\n",
       "      <td>0.009268</td>\n",
       "      <td>0.000000</td>\n",
       "      <td>0.000000</td>\n",
       "      <td>0.025112</td>\n",
       "      <td>0.000000</td>\n",
       "      <td>0.000000</td>\n",
       "      <td>0.025112</td>\n",
       "      <td>...</td>\n",
       "      <td>0.000000</td>\n",
       "      <td>0.000000</td>\n",
       "      <td>0.000000</td>\n",
       "      <td>0.000000</td>\n",
       "      <td>0.025112</td>\n",
       "      <td>0.025112</td>\n",
       "      <td>0.000000</td>\n",
       "      <td>0.000000</td>\n",
       "      <td>0.000000</td>\n",
       "      <td>0.000000</td>\n",
       "    </tr>\n",
       "    <tr>\n",
       "      <th>2</th>\n",
       "      <td>0.000000</td>\n",
       "      <td>0.000000</td>\n",
       "      <td>0.000000</td>\n",
       "      <td>0.000000</td>\n",
       "      <td>0.000000</td>\n",
       "      <td>0.000000</td>\n",
       "      <td>0.000000</td>\n",
       "      <td>0.009355</td>\n",
       "      <td>0.000000</td>\n",
       "      <td>0.000000</td>\n",
       "      <td>...</td>\n",
       "      <td>0.000000</td>\n",
       "      <td>0.009355</td>\n",
       "      <td>0.009355</td>\n",
       "      <td>0.009355</td>\n",
       "      <td>0.000000</td>\n",
       "      <td>0.000000</td>\n",
       "      <td>0.000000</td>\n",
       "      <td>0.006906</td>\n",
       "      <td>0.009355</td>\n",
       "      <td>0.009355</td>\n",
       "    </tr>\n",
       "  </tbody>\n",
       "</table>\n",
       "<p>3 rows × 79 columns</p>\n",
       "</div>"
      ],
      "text/plain": [
       "        not  placid-tempered,   career,        of   pledge,     place  \\\n",
       "0  0.015904          0.000000  0.015904  0.005870  0.015904  0.015904   \n",
       "1  0.000000          0.025112  0.000000  0.009268  0.000000  0.000000   \n",
       "2  0.000000          0.000000  0.000000  0.000000  0.000000  0.000000   \n",
       "\n",
       "   appeared,    little  acquaintance    woman,  ...   promise  injudicious  \\\n",
       "0   0.000000  0.000000      0.015904  0.000000  ...  0.015904     0.000000   \n",
       "1   0.025112  0.000000      0.000000  0.025112  ...  0.000000     0.000000   \n",
       "2   0.000000  0.009355      0.000000  0.000000  ...  0.000000     0.009355   \n",
       "\n",
       "       been     plans        be      what     first        my       who  \\\n",
       "0  0.000000  0.000000  0.000000  0.000000  0.015904  0.005870  0.000000   \n",
       "1  0.000000  0.000000  0.025112  0.025112  0.000000  0.000000  0.000000   \n",
       "2  0.009355  0.009355  0.000000  0.000000  0.000000  0.006906  0.009355   \n",
       "\n",
       "   wayward;  \n",
       "0  0.000000  \n",
       "1  0.000000  \n",
       "2  0.009355  \n",
       "\n",
       "[3 rows x 79 columns]"
      ]
     },
     "execution_count": 75,
     "metadata": {},
     "output_type": "execute_result"
    }
   ],
   "source": [
    "tf_idf_df = tf_df.copy()\n",
    "\n",
    "for w in all_words:\n",
    "    for i in range(num_docs):\n",
    "        tf_idf_df.loc[i, w] = tf_df[w][i] * idf[w]\n",
    "\n",
    "tf_idf_df"
   ]
  },
  {
   "cell_type": "markdown",
   "id": "8270a7b5-d11e-483b-a76d-6cabffb5c78e",
   "metadata": {},
   "source": [
    "This is a very rough, manual way of approaching TF-IDF, in order to better understand it. The TF-IDF vectorizer that we imported from the scikit library performs these calculations automatically, generating a TF-IDF vector for us without our having to do the math ourselves. "
   ]
  },
  {
   "cell_type": "code",
   "execution_count": 76,
   "id": "1491af32-0396-42de-b9fb-9112990fe1bc",
   "metadata": {},
   "outputs": [
    {
     "data": {
      "text/html": [
       "<div>\n",
       "<style scoped>\n",
       "    .dataframe tbody tr th:only-of-type {\n",
       "        vertical-align: middle;\n",
       "    }\n",
       "\n",
       "    .dataframe tbody tr th {\n",
       "        vertical-align: top;\n",
       "    }\n",
       "\n",
       "    .dataframe thead th {\n",
       "        text-align: right;\n",
       "    }\n",
       "</style>\n",
       "<table border=\"1\" class=\"dataframe\">\n",
       "  <thead>\n",
       "    <tr style=\"text-align: right;\">\n",
       "      <th></th>\n",
       "      <th>acquaintance</th>\n",
       "      <th>and</th>\n",
       "      <th>any</th>\n",
       "      <th>appeared</th>\n",
       "      <th>as</th>\n",
       "      <th>average</th>\n",
       "      <th>be</th>\n",
       "      <th>became</th>\n",
       "      <th>been</th>\n",
       "      <th>belied</th>\n",
       "      <th>...</th>\n",
       "      <th>thwarted</th>\n",
       "      <th>to</th>\n",
       "      <th>turned</th>\n",
       "      <th>was</th>\n",
       "      <th>wayward</th>\n",
       "      <th>what</th>\n",
       "      <th>which</th>\n",
       "      <th>who</th>\n",
       "      <th>with</th>\n",
       "      <th>woman</th>\n",
       "    </tr>\n",
       "  </thead>\n",
       "  <tbody>\n",
       "    <tr>\n",
       "      <th>0</th>\n",
       "      <td>0.190764</td>\n",
       "      <td>0.112668</td>\n",
       "      <td>0.000000</td>\n",
       "      <td>0.000000</td>\n",
       "      <td>0.000000</td>\n",
       "      <td>0.000000</td>\n",
       "      <td>0.000000</td>\n",
       "      <td>0.000000</td>\n",
       "      <td>0.000000</td>\n",
       "      <td>0.190764</td>\n",
       "      <td>...</td>\n",
       "      <td>0.000000</td>\n",
       "      <td>0.225337</td>\n",
       "      <td>0.000000</td>\n",
       "      <td>0.145081</td>\n",
       "      <td>0.000000</td>\n",
       "      <td>0.000000</td>\n",
       "      <td>0.190764</td>\n",
       "      <td>0.000000</td>\n",
       "      <td>0.190764</td>\n",
       "      <td>0.000000</td>\n",
       "    </tr>\n",
       "    <tr>\n",
       "      <th>1</th>\n",
       "      <td>0.000000</td>\n",
       "      <td>0.139776</td>\n",
       "      <td>0.000000</td>\n",
       "      <td>0.236661</td>\n",
       "      <td>0.000000</td>\n",
       "      <td>0.236661</td>\n",
       "      <td>0.236661</td>\n",
       "      <td>0.000000</td>\n",
       "      <td>0.000000</td>\n",
       "      <td>0.000000</td>\n",
       "      <td>...</td>\n",
       "      <td>0.000000</td>\n",
       "      <td>0.139776</td>\n",
       "      <td>0.236661</td>\n",
       "      <td>0.000000</td>\n",
       "      <td>0.000000</td>\n",
       "      <td>0.236661</td>\n",
       "      <td>0.000000</td>\n",
       "      <td>0.000000</td>\n",
       "      <td>0.000000</td>\n",
       "      <td>0.236661</td>\n",
       "    </tr>\n",
       "    <tr>\n",
       "      <th>2</th>\n",
       "      <td>0.000000</td>\n",
       "      <td>0.381896</td>\n",
       "      <td>0.129321</td>\n",
       "      <td>0.000000</td>\n",
       "      <td>0.129321</td>\n",
       "      <td>0.000000</td>\n",
       "      <td>0.000000</td>\n",
       "      <td>0.129321</td>\n",
       "      <td>0.129321</td>\n",
       "      <td>0.000000</td>\n",
       "      <td>...</td>\n",
       "      <td>0.129321</td>\n",
       "      <td>0.076379</td>\n",
       "      <td>0.000000</td>\n",
       "      <td>0.295057</td>\n",
       "      <td>0.129321</td>\n",
       "      <td>0.000000</td>\n",
       "      <td>0.000000</td>\n",
       "      <td>0.129321</td>\n",
       "      <td>0.000000</td>\n",
       "      <td>0.000000</td>\n",
       "    </tr>\n",
       "  </tbody>\n",
       "</table>\n",
       "<p>3 rows × 78 columns</p>\n",
       "</div>"
      ],
      "text/plain": [
       "   acquaintance       and       any  appeared        as   average        be  \\\n",
       "0      0.190764  0.112668  0.000000  0.000000  0.000000  0.000000  0.000000   \n",
       "1      0.000000  0.139776  0.000000  0.236661  0.000000  0.236661  0.236661   \n",
       "2      0.000000  0.381896  0.129321  0.000000  0.129321  0.000000  0.000000   \n",
       "\n",
       "     became      been    belied  ...  thwarted        to    turned       was  \\\n",
       "0  0.000000  0.000000  0.190764  ...  0.000000  0.225337  0.000000  0.145081   \n",
       "1  0.000000  0.000000  0.000000  ...  0.000000  0.139776  0.236661  0.000000   \n",
       "2  0.129321  0.129321  0.000000  ...  0.129321  0.076379  0.000000  0.295057   \n",
       "\n",
       "    wayward      what     which       who      with     woman  \n",
       "0  0.000000  0.000000  0.190764  0.000000  0.190764  0.000000  \n",
       "1  0.000000  0.236661  0.000000  0.000000  0.000000  0.236661  \n",
       "2  0.129321  0.000000  0.000000  0.129321  0.000000  0.000000  \n",
       "\n",
       "[3 rows x 78 columns]"
      ]
     },
     "execution_count": 76,
     "metadata": {},
     "output_type": "execute_result"
    }
   ],
   "source": [
    "from sklearn.feature_extraction.text import TfidfVectorizer\n",
    "\n",
    "vectorizer = TfidfVectorizer()\n",
    "tf_idf_vector = vectorizer.fit_transform(corpus)\n",
    "tf_idf_array = tf_idf_vector.toarray()\n",
    "\n",
    "words_set = vectorizer.get_feature_names_out()\n",
    "\n",
    "sk_tf_idf_df = pd.DataFrame(tf_idf_array, columns=words_set)\n",
    "\n",
    "sk_tf_idf_df"
   ]
  },
  {
   "cell_type": "code",
   "execution_count": 78,
   "id": "c7c4e54f-03c1-44f4-b4d1-ed161a989731",
   "metadata": {},
   "outputs": [
    {
     "name": "stdout",
     "output_type": "stream",
     "text": [
      "\n",
      "Top 10 TF-IDF words for Document 1:\n",
      "the: 0.3815\n",
      "to: 0.2253\n",
      "not: 0.1908\n",
      "seemed: 0.1908\n",
      "career: 0.1908\n",
      "promise: 0.1908\n",
      "place: 0.1908\n",
      "on: 0.1908\n",
      "acquaintance: 0.1908\n",
      "calm: 0.1908\n",
      "\n",
      "Top 10 TF-IDF words for Document 2:\n",
      "woman: 0.2367\n",
      "be: 0.2367\n",
      "kind: 0.2367\n",
      "mrs: 0.2367\n",
      "natured: 0.2367\n",
      "out: 0.2367\n",
      "fairfax: 0.2367\n",
      "placid: 0.2367\n",
      "education: 0.2367\n",
      "tempered: 0.2367\n",
      "\n",
      "Top 10 TF-IDF words for Document 3:\n",
      "and: 0.3819\n",
      "was: 0.2951\n",
      "my: 0.2951\n",
      "her: 0.2586\n",
      "she: 0.1967\n",
      "ever: 0.1293\n",
      "care: 0.1293\n",
      "child: 0.1293\n",
      "committed: 0.1293\n",
      "obedient: 0.1293\n"
     ]
    }
   ],
   "source": [
    "def top_tfidf_terms(df, top_n=10):\n",
    "    for i, row in df.iterrows():  # Iterate over each document\n",
    "        sorted_indices = row.argsort()[::-1][:top_n]  # Get indices of top 10 words\n",
    "        top_words = [(df.columns[idx], row.iloc[idx]) for idx in sorted_indices]  # Extract word-score pairs\n",
    "        \n",
    "        # Print results\n",
    "        print(f\"\\nTop {top_n} TF-IDF words for Document {i+1}:\")\n",
    "        for word, score in top_words:\n",
    "            print(f\"{word}: {score:.4f}\")\n",
    "\n",
    "# Display top 10 words for each document\n",
    "top_tfidf_terms(sk_tf_idf_df)\n",
    "\n"
   ]
  },
  {
   "cell_type": "markdown",
   "id": "49faee2c-568f-4a28-8b4c-f3fd65d2ced1",
   "metadata": {},
   "source": [
    "This is a very rough approximation of the TF-IDF analysis we carried out on full chapters of the novel."
   ]
  },
  {
   "cell_type": "markdown",
   "id": "a6612bf6-4f91-4fb8-bc29-0c13f86cbe2b",
   "metadata": {},
   "source": []
  }
 ],
 "metadata": {
  "kernelspec": {
   "display_name": "Python 3 (ipykernel)",
   "language": "python",
   "name": "python3"
  },
  "language_info": {
   "codemirror_mode": {
    "name": "ipython",
    "version": 3
   },
   "file_extension": ".py",
   "mimetype": "text/x-python",
   "name": "python",
   "nbconvert_exporter": "python",
   "pygments_lexer": "ipython3",
   "version": "3.12.9"
  }
 },
 "nbformat": 4,
 "nbformat_minor": 5
}
